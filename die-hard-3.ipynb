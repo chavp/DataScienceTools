{
 "cells": [
  {
   "cell_type": "code",
   "execution_count": 89,
   "metadata": {},
   "outputs": [
    {
     "name": "stdout",
     "output_type": "stream",
     "text": [
      "JUG1\tJUG2\n",
      "(0, 0)\n",
      "(3, 0)\n",
      "(0, 3)\n",
      "(3, 3)\n",
      "(1, 5)\n",
      "(1, 0)\n",
      "(0, 1)\n",
      "(3, 1)\n",
      "(0, 4)\n"
     ]
    }
   ],
   "source": [
    "def pour(jug1, jug2):\n",
    "    max1, max2, fill = 3,5, 4  #Change maximum capacity and final capacity\n",
    "    print(F\"({jug1}, {jug2})\")\n",
    "    if jug2 is fill:\n",
    "        return\n",
    "    elif jug1 != 0 and jug2 is max2 :\n",
    "        pour(jug1, 0)\n",
    "    elif jug2 is max2:\n",
    "        pour(0, jug1)\n",
    "    elif jug1 != 0 and jug2 is 0:\n",
    "        pour(0, jug1)\n",
    "    elif jug1 is fill:\n",
    "        pour(jug1, 0)\n",
    "    elif jug1 < max1:\n",
    "        pour(max1, jug2)\n",
    "    elif jug1 < (max2-jug2):\n",
    "        pour(0, (jug1+jug2))\n",
    "    else:\n",
    "        pour(jug1-(max2-jug2), (max2-jug2)+jug2)\n",
    " \n",
    "print(\"JUG1\\tJUG2\")\n",
    "pour(0, 0)"
   ]
  },
  {
   "cell_type": "code",
   "execution_count": 92,
   "metadata": {},
   "outputs": [
    {
     "name": "stdout",
     "output_type": "stream",
     "text": [
      "0, 0\n",
      "5, 0\n",
      "2, 3\n",
      "2, 0\n",
      "0, 2\n",
      "5, 2\n",
      "4, 3\n"
     ]
    }
   ],
   "source": [
    "def pour(b, l):\n",
    "    B, L, TARGET = 5, 3, 4\n",
    "    print(F\"{b}, {l}\")\n",
    "    if b == TARGET:\n",
    "        return\n",
    "    if b > 0:\n",
    "        if b + l <= L:\n",
    "            pour(0, b + l)\n",
    "        elif l < L:\n",
    "            pour(b - (L - l), L)\n",
    "        else:\n",
    "            pour(b, 0)\n",
    "    else:\n",
    "        pour(B, l)\n",
    "\n",
    "pour(0, 0)"
   ]
  },
  {
   "cell_type": "code",
   "execution_count": 93,
   "metadata": {},
   "outputs": [
    {
     "name": "stdout",
     "output_type": "stream",
     "text": [
      "0, 0\n",
      "0, 3\n",
      "3, 0\n",
      "3, 3\n",
      "5, 1\n",
      "0, 1\n",
      "1, 0\n",
      "1, 3\n",
      "4, 0\n"
     ]
    }
   ],
   "source": [
    "def pour(b, l):\n",
    "    B, L, TARGET = 5, 3, 4\n",
    "    print(F\"{b}, {l}\")\n",
    "    if b == TARGET:\n",
    "        return\n",
    "    if l > 0:\n",
    "        if b + l <= B:\n",
    "            pour(b + l, 0)\n",
    "        elif b < B:\n",
    "            pour(B, l - (B - b))\n",
    "        else:\n",
    "            pour(0, l)\n",
    "    else:\n",
    "        pour(b, L)\n",
    "            \n",
    "pour(0, 0)"
   ]
  },
  {
   "cell_type": "code",
   "execution_count": 83,
   "metadata": {},
   "outputs": [
    {
     "ename": "SyntaxError",
     "evalue": "invalid syntax (<ipython-input-83-2b54b5cda259>, line 4)",
     "output_type": "error",
     "traceback": [
      "\u001b[1;36m  File \u001b[1;32m\"<ipython-input-83-2b54b5cda259>\"\u001b[1;36m, line \u001b[1;32m4\u001b[0m\n\u001b[1;33m    if\u001b[0m\n\u001b[1;37m       ^\u001b[0m\n\u001b[1;31mSyntaxError\u001b[0m\u001b[1;31m:\u001b[0m invalid syntax\n"
     ]
    }
   ],
   "source": [
    "def pour(b, l):\n",
    "    B, L, TARGET = 5, 3, 4\n",
    "    print(F\"{b}, {l}\")\n",
    "    if "
   ]
  },
  {
   "cell_type": "code",
   "execution_count": 98,
   "metadata": {},
   "outputs": [
    {
     "data": {
      "text/plain": [
       "20"
      ]
     },
     "execution_count": 98,
     "metadata": {},
     "output_type": "execute_result"
    }
   ],
   "source": [
    "def multiply(x, y):\n",
    "    r, s, a = x, y, 0\n",
    "    while s != 0:\n",
    "        if s % 3 == 0:\n",
    "            r, s = r + r + r, s / 3\n",
    "        elif (s-1) % 3 == 0:\n",
    "            a, r, s = a + r, r + r + r, (s-1) / 3\n",
    "        else:\n",
    "            a, r, s = a + r + r, r + r + r, (s-2) / 3\n",
    "    return a\n",
    "\n",
    "multiply(2, 10)"
   ]
  },
  {
   "cell_type": "code",
   "execution_count": null,
   "metadata": {},
   "outputs": [],
   "source": []
  }
 ],
 "metadata": {
  "kernelspec": {
   "display_name": "Python 3",
   "language": "python",
   "name": "python3"
  },
  "language_info": {
   "codemirror_mode": {
    "name": "ipython",
    "version": 3
   },
   "file_extension": ".py",
   "mimetype": "text/x-python",
   "name": "python",
   "nbconvert_exporter": "python",
   "pygments_lexer": "ipython3",
   "version": "3.7.4"
  }
 },
 "nbformat": 4,
 "nbformat_minor": 4
}
