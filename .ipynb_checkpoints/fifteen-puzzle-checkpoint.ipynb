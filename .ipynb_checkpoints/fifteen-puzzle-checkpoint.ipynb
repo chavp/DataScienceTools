{
 "cells": [
  {
   "cell_type": "code",
   "execution_count": 365,
   "metadata": {},
   "outputs": [
    {
     "data": {
      "text/plain": [
       "[[8, (0, 0)],\n",
       " [7, (0, 1)],\n",
       " [6, (0, 2)],\n",
       " [5, (1, 0)],\n",
       " [4, (1, 1)],\n",
       " [3, (1, 2)],\n",
       " [2, (2, 0)],\n",
       " [1, (2, 1)],\n",
       " [0, (2, 2)]]"
      ]
     },
     "execution_count": 365,
     "metadata": {},
     "output_type": "execute_result"
    }
   ],
   "source": [
    "import numpy as np\n",
    "import pandas as pd\n",
    "\n",
    "# Fifteen Puzzle\n",
    "T = [ [0, (x, y)] for x in np.arange(3) for y in np.arange(3)]\n",
    "G = [ [0, (x, y)] for x in np.arange(3) for y in np.arange(3)]\n",
    "index = 0\n",
    "L = np.arange(1, 9, 1)\n",
    "for n in L:\n",
    "    T[index][0] = n\n",
    "    G[index][0] = 9 - n\n",
    "    index = index + 1\n",
    "\n",
    "acts = ['u', 'r', 'd', 'l']\n",
    "\n",
    "G"
   ]
  },
  {
   "cell_type": "code",
   "execution_count": 362,
   "metadata": {},
   "outputs": [],
   "source": [
    "def move(t, act):\n",
    "    p = t[1]\n",
    "    _p = (0, 0)\n",
    "    if act == 'u':\n",
    "        _p = (-1, 0)\n",
    "    elif act == 'r':\n",
    "        _p = (0, 1)\n",
    "    elif act == 'd':\n",
    "        _p = (1, 0)\n",
    "    elif act == 'l':\n",
    "        _p = (0, -1)\n",
    "    else:\n",
    "        return\n",
    "    _p = (p[0] + _p[0], p[1] + _p[1])\n",
    "    _t = findByPoint(_p)\n",
    "    if _t is None or _t[1][0] < 0 or _t[1][1] > 2 or _t[0] != 0:\n",
    "        return\n",
    "    return _t\n",
    "\n",
    "def findByPoint(p):\n",
    "    for t in T:\n",
    "        _p = t[1]\n",
    "        if _p[0] == p[0] and _p[1] == p[1]:\n",
    "            return t\n",
    "\n",
    "def swap(t1, t2):\n",
    "    temp = t2[0]\n",
    "    t2[0] = t1[0]\n",
    "    t1[0] = temp\n",
    "    \n",
    "def step(t, act):\n",
    "    l = t[0]\n",
    "    d = t[1]\n",
    "    _t = move(t, act)\n",
    "    if _t != None:\n",
    "        swap(t, _t)\n",
    "    return _t\n",
    "\n",
    "def findByLabe(l):\n",
    "    for t in T:\n",
    "        _l = t[0]\n",
    "        if _l == l:\n",
    "            return t\n",
    "\n",
    "def findCanMove():\n",
    "    t = findByLabe(0)\n",
    "    p = t[1]\n",
    "    p1 = (p[0]-1, p[1])\n",
    "    p2 = (p[0], p[1]+1)\n",
    "    p3 = (p[0]+1, p[1])\n",
    "    p4 = (p[0], p[1]-1)\n",
    "    return [x for x in [findByPoint(p1), findByPoint(p2), findByPoint(p3), findByPoint(p4)] if x != None]\n",
    "\n",
    "def findCanAct(t):\n",
    "    for act in acts:\n",
    "        _t = move(t, act)\n",
    "        if _t != None:\n",
    "            return [t, act]\n",
    "\n",
    "def score():\n",
    "    s = 0\n",
    "    for x in T:\n",
    "        for y in G:\n",
    "            v1, v2 = x[0], y[0]\n",
    "            p1, p2 = x[1], y[1]\n",
    "            if p1[0] == p2[0] and p1[1] == p2[1] and v1 == v2:\n",
    "                s = s + 1\n",
    "    return s\n",
    "\n",
    "def state():\n",
    "    st = \"\"\n",
    "    for _ in T:\n",
    "        st = st + F\"{_[0]}\"\n",
    "    return st\n",
    "        "
   ]
  },
  {
   "cell_type": "code",
   "execution_count": 250,
   "metadata": {},
   "outputs": [
    {
     "name": "stdout",
     "output_type": "stream",
     "text": [
      "[5, (2, 1)]\n"
     ]
    }
   ],
   "source": [
    "t = findByLabe(5)\n",
    "obs = step(t, 'd')\n",
    "print(obs)"
   ]
  },
  {
   "cell_type": "code",
   "execution_count": 212,
   "metadata": {},
   "outputs": [
    {
     "data": {
      "text/plain": [
       "[0, (2, 1)]"
      ]
     },
     "execution_count": 212,
     "metadata": {},
     "output_type": "execute_result"
    }
   ],
   "source": [
    "findByLabe(0)"
   ]
  },
  {
   "cell_type": "code",
   "execution_count": 260,
   "metadata": {},
   "outputs": [
    {
     "data": {
      "text/plain": [
       "[[6, (1, 2)], [8, (2, 1)]]"
      ]
     },
     "execution_count": 260,
     "metadata": {},
     "output_type": "execute_result"
    }
   ],
   "source": [
    "findCanMove()"
   ]
  },
  {
   "cell_type": "code",
   "execution_count": 261,
   "metadata": {},
   "outputs": [
    {
     "data": {
      "text/plain": [
       "[[6, (1, 2)], 'd']"
      ]
     },
     "execution_count": 261,
     "metadata": {},
     "output_type": "execute_result"
    }
   ],
   "source": [
    "CM = findCanMove()\n",
    "findCanAct(CM[0])"
   ]
  },
  {
   "cell_type": "code",
   "execution_count": 262,
   "metadata": {},
   "outputs": [
    {
     "data": {
      "text/plain": [
       "[[[6, (1, 2)], 'd'], [[8, (2, 1)], 'r']]"
      ]
     },
     "execution_count": 262,
     "metadata": {},
     "output_type": "execute_result"
    }
   ],
   "source": [
    "can_acts = [findCanAct(x) for x in CM]\n",
    "can_acts"
   ]
  },
  {
   "cell_type": "code",
   "execution_count": 259,
   "metadata": {},
   "outputs": [
    {
     "data": {
      "text/plain": [
       "[[1, (0, 0)],\n",
       " [2, (0, 1)],\n",
       " [3, (0, 2)],\n",
       " [4, (1, 0)],\n",
       " [5, (1, 1)],\n",
       " [6, (1, 2)],\n",
       " [7, (2, 0)],\n",
       " [8, (2, 1)],\n",
       " [0, (2, 2)]]"
      ]
     },
     "execution_count": 259,
     "metadata": {},
     "output_type": "execute_result"
    }
   ],
   "source": [
    "T"
   ]
  },
  {
   "cell_type": "code",
   "execution_count": 292,
   "metadata": {},
   "outputs": [
    {
     "data": {
      "text/plain": [
       "[[6, (1, 2)], 'd']"
      ]
     },
     "execution_count": 292,
     "metadata": {},
     "output_type": "execute_result"
    }
   ],
   "source": [
    "can_acts[np.random.randint(0, len(can_acts))]"
   ]
  },
  {
   "cell_type": "code",
   "execution_count": 355,
   "metadata": {},
   "outputs": [],
   "source": [
    "D = [T, T, can_acts[np.random.randint(0, len(can_acts))]]"
   ]
  },
  {
   "cell_type": "code",
   "execution_count": 367,
   "metadata": {},
   "outputs": [
    {
     "name": "stdout",
     "output_type": "stream",
     "text": [
      "0\n",
      "[[8, (0, 0)], [7, (0, 1)], [6, (0, 2)], [5, (1, 0)], [4, (1, 1)], [3, (1, 2)], [2, (2, 0)], [1, (2, 1)], [0, (2, 2)]]\n"
     ]
    }
   ],
   "source": [
    "s = score()\n",
    "currentState = state()\n",
    "for _ in range(900000):\n",
    "    if currentState == '876543210':\n",
    "        print(_)\n",
    "        print(T)\n",
    "        break\n",
    "    can_acts = [findCanAct(x) for x in findCanMove()]\n",
    "    act = can_acts[np.random.randint(0, len(can_acts))]\n",
    "    step(act[0], act[1])\n",
    "    s = score()"
   ]
  },
  {
   "cell_type": "code",
   "execution_count": 368,
   "metadata": {},
   "outputs": [
    {
     "data": {
      "text/plain": [
       "'876543210'"
      ]
     },
     "execution_count": 368,
     "metadata": {},
     "output_type": "execute_result"
    }
   ],
   "source": [
    "state()"
   ]
  },
  {
   "cell_type": "code",
   "execution_count": null,
   "metadata": {},
   "outputs": [],
   "source": []
  }
 ],
 "metadata": {
  "kernelspec": {
   "display_name": "Python 3",
   "language": "python",
   "name": "python3"
  },
  "language_info": {
   "codemirror_mode": {
    "name": "ipython",
    "version": 3
   },
   "file_extension": ".py",
   "mimetype": "text/x-python",
   "name": "python",
   "nbconvert_exporter": "python",
   "pygments_lexer": "ipython3",
   "version": "3.7.4"
  }
 },
 "nbformat": 4,
 "nbformat_minor": 4
}
