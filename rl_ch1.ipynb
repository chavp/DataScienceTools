{
 "cells": [
  {
   "cell_type": "code",
   "execution_count": 1,
   "metadata": {},
   "outputs": [],
   "source": [
    "def line(x, a, b):\n",
    "    return a * x + b"
   ]
  },
  {
   "cell_type": "code",
   "execution_count": 4,
   "metadata": {},
   "outputs": [],
   "source": [
    "a, b = 0.1, 10\n",
    "X = [1, 2, 3, 4]\n",
    "Y = [line(x, a, b) for x in X]"
   ]
  },
  {
   "cell_type": "code",
   "execution_count": 5,
   "metadata": {},
   "outputs": [
    {
     "data": {
      "text/plain": [
       "[10.1, 10.2, 10.3, 10.4]"
      ]
     },
     "execution_count": 5,
     "metadata": {},
     "output_type": "execute_result"
    }
   ],
   "source": [
    "Y"
   ]
  },
  {
   "cell_type": "code",
   "execution_count": 175,
   "metadata": {},
   "outputs": [
    {
     "ename": "NameError",
     "evalue": "name 'X' is not defined",
     "output_type": "error",
     "traceback": [
      "\u001b[1;31m---------------------------------------------------------------------------\u001b[0m",
      "\u001b[1;31mNameError\u001b[0m                                 Traceback (most recent call last)",
      "\u001b[1;32m<ipython-input-175-f77767a5b02d>\u001b[0m in \u001b[0;36m<module>\u001b[1;34m\u001b[0m\n\u001b[0;32m      2\u001b[0m \u001b[0mfig\u001b[0m \u001b[1;33m=\u001b[0m \u001b[0mgo\u001b[0m\u001b[1;33m.\u001b[0m\u001b[0mFigure\u001b[0m\u001b[1;33m(\u001b[0m\u001b[1;33m)\u001b[0m\u001b[1;33m\u001b[0m\u001b[1;33m\u001b[0m\u001b[0m\n\u001b[0;32m      3\u001b[0m fig.add_trace(go.Scatter(\n\u001b[1;32m----> 4\u001b[1;33m     \u001b[0mx\u001b[0m\u001b[1;33m=\u001b[0m\u001b[0mX\u001b[0m\u001b[1;33m,\u001b[0m\u001b[1;33m\u001b[0m\u001b[1;33m\u001b[0m\u001b[0m\n\u001b[0m\u001b[0;32m      5\u001b[0m     \u001b[0my\u001b[0m\u001b[1;33m=\u001b[0m\u001b[0mY\u001b[0m\u001b[1;33m,\u001b[0m\u001b[1;33m\u001b[0m\u001b[1;33m\u001b[0m\u001b[0m\n\u001b[0;32m      6\u001b[0m     \u001b[0mname\u001b[0m\u001b[1;33m=\u001b[0m\u001b[1;34m\"Name of Trace 1\"\u001b[0m       \u001b[1;31m# this sets its legend entry\u001b[0m\u001b[1;33m\u001b[0m\u001b[1;33m\u001b[0m\u001b[0m\n",
      "\u001b[1;31mNameError\u001b[0m: name 'X' is not defined"
     ]
    }
   ],
   "source": [
    "import plotly.graph_objects as go\n",
    "fig = go.Figure()\n",
    "fig.add_trace(go.Scatter(\n",
    "    x=X,\n",
    "    y=Y,\n",
    "    name=\"Name of Trace 1\"       # this sets its legend entry\n",
    "))\n"
   ]
  },
  {
   "cell_type": "code",
   "execution_count": 163,
   "metadata": {},
   "outputs": [],
   "source": [
    "import numpy as np\n",
    "from scipy import stats\n",
    "import random\n",
    "import matplotlib.pyplot as plt"
   ]
  },
  {
   "cell_type": "code",
   "execution_count": 7,
   "metadata": {},
   "outputs": [],
   "source": [
    "def get_reward(prob, n = 10):\n",
    "    reward = 0\n",
    "    for i in range(n):\n",
    "        if random.random() < prob:\n",
    "            reward +=1\n",
    "    return reward"
   ]
  },
  {
   "cell_type": "code",
   "execution_count": 13,
   "metadata": {},
   "outputs": [
    {
     "data": {
      "text/plain": [
       "7.0125"
      ]
     },
     "execution_count": 13,
     "metadata": {},
     "output_type": "execute_result"
    }
   ],
   "source": [
    "X = [get_reward(0.7) for _ in range(2000)]\n",
    "np.mean([get_reward(0.7) for _ in range(2000)])"
   ]
  },
  {
   "cell_type": "code",
   "execution_count": 14,
   "metadata": {},
   "outputs": [],
   "source": [
    "record = np.zeros([10, 2])"
   ]
  },
  {
   "cell_type": "code",
   "execution_count": 15,
   "metadata": {},
   "outputs": [
    {
     "data": {
      "text/plain": [
       "array([[0., 0.],\n",
       "       [0., 0.],\n",
       "       [0., 0.],\n",
       "       [0., 0.],\n",
       "       [0., 0.],\n",
       "       [0., 0.],\n",
       "       [0., 0.],\n",
       "       [0., 0.],\n",
       "       [0., 0.],\n",
       "       [0., 0.]])"
      ]
     },
     "execution_count": 15,
     "metadata": {},
     "output_type": "execute_result"
    }
   ],
   "source": [
    "record"
   ]
  },
  {
   "cell_type": "code",
   "execution_count": 16,
   "metadata": {},
   "outputs": [],
   "source": [
    "def update_record(record,action,r):\n",
    "    new_r = (record[action,0] * record[action,1] + r) / (record[action,0] + 1)\n",
    "    record[action,0] += 1\n",
    "    record[action,1] = new_r\n",
    "    return record"
   ]
  },
  {
   "cell_type": "code",
   "execution_count": 17,
   "metadata": {},
   "outputs": [],
   "source": [
    "def get_best_arm(record):\n",
    "    arm_index = np.argmax(record[:,1],axis=0)\n",
    "    return arm_index"
   ]
  },
  {
   "cell_type": "code",
   "execution_count": 174,
   "metadata": {},
   "outputs": [
    {
     "ename": "NameError",
     "evalue": "name 'get_reward' is not defined",
     "output_type": "error",
     "traceback": [
      "\u001b[1;31m---------------------------------------------------------------------------\u001b[0m",
      "\u001b[1;31mNameError\u001b[0m                                 Traceback (most recent call last)",
      "\u001b[1;32m<ipython-input-174-8a9a25712b34>\u001b[0m in \u001b[0;36m<module>\u001b[1;34m\u001b[0m\n\u001b[0;32m     12\u001b[0m     \u001b[1;32melse\u001b[0m\u001b[1;33m:\u001b[0m\u001b[1;33m\u001b[0m\u001b[1;33m\u001b[0m\u001b[0m\n\u001b[0;32m     13\u001b[0m         \u001b[0mchoice\u001b[0m \u001b[1;33m=\u001b[0m \u001b[0mnp\u001b[0m\u001b[1;33m.\u001b[0m\u001b[0mrandom\u001b[0m\u001b[1;33m.\u001b[0m\u001b[0mrandint\u001b[0m\u001b[1;33m(\u001b[0m\u001b[0mn\u001b[0m\u001b[1;33m)\u001b[0m\u001b[1;33m\u001b[0m\u001b[1;33m\u001b[0m\u001b[0m\n\u001b[1;32m---> 14\u001b[1;33m     \u001b[0mr\u001b[0m \u001b[1;33m=\u001b[0m \u001b[0mget_reward\u001b[0m\u001b[1;33m(\u001b[0m\u001b[0mprobs\u001b[0m\u001b[1;33m[\u001b[0m\u001b[0mchoice\u001b[0m\u001b[1;33m]\u001b[0m\u001b[1;33m)\u001b[0m\u001b[1;33m\u001b[0m\u001b[1;33m\u001b[0m\u001b[0m\n\u001b[0m\u001b[0;32m     15\u001b[0m     \u001b[0mrecord\u001b[0m \u001b[1;33m=\u001b[0m \u001b[0mupdate_record\u001b[0m\u001b[1;33m(\u001b[0m\u001b[0mrecord\u001b[0m\u001b[1;33m,\u001b[0m\u001b[0mchoice\u001b[0m\u001b[1;33m,\u001b[0m\u001b[0mr\u001b[0m\u001b[1;33m)\u001b[0m\u001b[1;33m\u001b[0m\u001b[1;33m\u001b[0m\u001b[0m\n\u001b[0;32m     16\u001b[0m     \u001b[0mmean_reward\u001b[0m \u001b[1;33m=\u001b[0m \u001b[1;33m(\u001b[0m\u001b[1;33m(\u001b[0m\u001b[0mi\u001b[0m\u001b[1;33m+\u001b[0m\u001b[1;36m1\u001b[0m\u001b[1;33m)\u001b[0m \u001b[1;33m*\u001b[0m \u001b[0mrewards\u001b[0m\u001b[1;33m[\u001b[0m\u001b[1;33m-\u001b[0m\u001b[1;36m1\u001b[0m\u001b[1;33m]\u001b[0m \u001b[1;33m+\u001b[0m \u001b[0mr\u001b[0m\u001b[1;33m)\u001b[0m\u001b[1;33m/\u001b[0m\u001b[1;33m(\u001b[0m\u001b[0mi\u001b[0m\u001b[1;33m+\u001b[0m\u001b[1;36m2\u001b[0m\u001b[1;33m)\u001b[0m\u001b[1;33m\u001b[0m\u001b[1;33m\u001b[0m\u001b[0m\n",
      "\u001b[1;31mNameError\u001b[0m: name 'get_reward' is not defined"
     ]
    },
    {
     "data": {
      "image/png": "[encoded data removed]",
      "text/plain": [
       "<Figure size 432x288 with 1 Axes>"
      ]
     },
     "metadata": {
      "needs_background": "light"
     },
     "output_type": "display_data"
    }
   ],
   "source": [
    "n = 2\n",
    "fig, ax = plt.subplots(1,1)\n",
    "ax.set_xlabel(\"Plays\")\n",
    "ax.set_ylabel(\"Avg Reward\")\n",
    "record = np.zeros((n,2))\n",
    "probs = np.random.rand(n)\n",
    "eps = 0.2\n",
    "rewards = [0]\n",
    "for i in range(500):\n",
    "    if random.random() > eps:\n",
    "        choice = get_best_arm(record)\n",
    "    else:\n",
    "        choice = np.random.randint(n)\n",
    "    r = get_reward(probs[choice])\n",
    "    record = update_record(record,choice,r)\n",
    "    mean_reward = ((i+1) * rewards[-1] + r)/(i+2)\n",
    "    rewards.append(mean_reward)\n",
    "ax.scatter(np.arange(len(rewards)),rewards)"
   ]
  },
  {
   "cell_type": "code",
   "execution_count": 41,
   "metadata": {},
   "outputs": [
    {
     "data": {
      "application/vnd.plotly.v1+json": {
       "config": {
        "plotlyServerURL": "https://plot.ly"
       },
       "data": [
        {
         "type": "scatter",
         "x": [
          0,
          1,
          2,
          3,
          4,
          5,
          6,
          7,
          8,
          9,
          10,
          11,
          12,
          13,
          14,
          15,
          16,
          17,
          18,
          19,
          20,
          21,
          22,
          23,
          24,
          25,
          26,
          27,
          28,
          29,
          30,
          31,
          32,
          33,
          34,
          35,
          36,
          37,
          38,
          39,
          40,
          41,
          42,
          43,
          44,
          45,
          46,
          47,
          48,
          49,
          50,
          51,
          52,
          53,
          54,
          55,
          56,
          57,
          58,
          59,
          60,
          61,
          62,
          63,
          64,
          65,
          66,
          67,
          68,
          69,
          70,
          71,
          72,
          73,
          74,
          75,
          76,
          77,
          78,
          79,
          80,
          81,
          82,
          83,
          84,
          85,
          86,
          87,
          88,
          89,
          90,
          91,
          92,
          93,
          94,
          95,
          96,
          97,
          98,
          99,
          100,
          101,
          102,
          103,
          104,
          105,
          106,
          107,
          108,
          109,
          110,
          111,
          112,
          113,
          114,
          115,
          116,
          117,
          118,
          119,
          120,
          121,
          122,
          123,
          124,
          125,
          126,
          127,
          128,
          129,
          130,
          131,
          132,
          133,
          134,
          135,
          136,
          137,
          138,
          139,
          140,
          141,
          142,
          143,
          144,
          145,
          146,
          147,
          148,
          149,
          150,
          151,
          152,
          153,
          154,
          155,
          156,
          157,
          158,
          159,
          160,
          161,
          162,
          163,
          164,
          165,
          166,
          167,
          168,
          169,
          170,
          171,
          172,
          173,
          174,
          175,
          176,
          177,
          178,
          179,
          180,
          181,
          182,
          183,
          184,
          185,
          186,
          187,
          188,
          189,
          190,
          191,
          192,
          193,
          194,
          195,
          196,
          197,
          198,
          199,
          200,
          201,
          202,
          203,
          204,
          205,
          206,
          207,
          208,
          209,
          210,
          211,
          212,
          213,
          214,
          215,
          216,
          217,
          218,
          219,
          220,
          221,
          222,
          223,
          224,
          225,
          226,
          227,
          228,
          229,
          230,
          231,
          232,
          233,
          234,
          235,
          236,
          237,
          238,
          239,
          240,
          241,
          242,
          243,
          244,
          245,
          246,
          247,
          248,
          249,
          250,
          251,
          252,
          253,
          254,
          255,
          256,
          257,
          258,
          259,
          260,
          261,
          262,
          263,
          264,
          265,
          266,
          267,
          268,
          269,
          270,
          271,
          272,
          273,
          274,
          275,
          276,
          277,
          278,
          279,
          280,
          281,
          282,
          283,
          284,
          285,
          286,
          287,
          288,
          289,
          290,
          291,
          292,
          293,
          294,
          295,
          296,
          297,
          298,
          299,
          300,
          301,
          302,
          303,
          304,
          305,
          306,
          307,
          308,
          309,
          310,
          311,
          312,
          313,
          314,
          315,
          316,
          317,
          318,
          319,
          320,
          321,
          322,
          323,
          324,
          325,
          326,
          327,
          328,
          329,
          330,
          331,
          332,
          333,
          334,
          335,
          336,
          337,
          338,
          339,
          340,
          341,
          342,
          343,
          344,
          345,
          346,
          347,
          348,
          349,
          350,
          351,
          352,
          353,
          354,
          355,
          356,
          357,
          358,
          359,
          360,
          361,
          362,
          363,
          364,
          365,
          366,
          367,
          368,
          369,
          370,
          371,
          372,
          373,
          374,
          375,
          376,
          377,
          378,
          379,
          380,
          381,
          382,
          383,
          384,
          385,
          386,
          387,
          388,
          389,
          390,
          391,
          392,
          393,
          394,
          395,
          396,
          397,
          398,
          399,
          400,
          401,
          402,
          403,
          404,
          405,
          406,
          407,
          408,
          409,
          410,
          411,
          412,
          413,
          414,
          415,
          416,
          417,
          418,
          419,
          420,
          421,
          422,
          423,
          424,
          425,
          426,
          427,
          428,
          429,
          430,
          431,
          432,
          433,
          434,
          435,
          436,
          437,
          438,
          439,
          440,
          441,
          442,
          443,
          444,
          445,
          446,
          447,
          448,
          449,
          450,
          451,
          452,
          453,
          454,
          455,
          456,
          457,
          458,
          459,
          460,
          461,
          462,
          463,
          464,
          465,
          466,
          467,
          468,
          469,
          470,
          471,
          472,
          473,
          474,
          475,
          476,
          477,
          478,
          479,
          480,
          481,
          482,
          483,
          484,
          485,
          486,
          487,
          488,
          489,
          490,
          491,
          492,
          493,
          494,
          495,
          496,
          497,
          498,
          499,
          500
         ],
         "y": [
          0,
          5,
          6.333333333333333,
          7.25,
          7.8,
          8,
          8.285714285714286,
          8.375,
          8.444444444444445,
          8.6,
          7.909090909090909,
          7.916666666666667,
          8.076923076923077,
          7.714285714285714,
          7.733333333333333,
          7.875,
          8,
          8.055555555555555,
          8.157894736842104,
          8.149999999999999,
          7.761904761904761,
          7.863636363636362,
          7.956521739130434,
          7.666666666666665,
          7.719999999999999,
          7.807692307692307,
          7.8888888888888875,
          7.7142857142857135,
          7.793103448275861,
          7.833333333333332,
          7.870967741935483,
          7.906249999999999,
          7.96969696969697,
          8.029411764705882,
          8.057142857142857,
          8.11111111111111,
          8.162162162162161,
          8.18421052631579,
          8.051282051282051,
          8.075,
          8.097560975609756,
          8.142857142857142,
          8.162790697674419,
          8.204545454545455,
          8.222222222222221,
          8.239130434782608,
          8.27659574468085,
          8.291666666666666,
          8.326530612244898,
          8.36,
          8.392156862745098,
          8.326923076923077,
          8.339622641509434,
          8.37037037037037,
          8.381818181818181,
          8.392857142857142,
          8.421052631578947,
          8.431034482758621,
          8.440677966101696,
          8.466666666666667,
          8.491803278688524,
          8.516129032258064,
          8.523809523809524,
          8.546875,
          8.415384615384616,
          8.424242424242424,
          8.447761194029852,
          8.470588235294118,
          8.492753623188406,
          8.5,
          8.507042253521126,
          8.527777777777779,
          8.534246575342467,
          8.554054054054056,
          8.573333333333334,
          8.592105263157896,
          8.5974025974026,
          8.615384615384617,
          8.632911392405065,
          8.637500000000001,
          8.54320987654321,
          8.524390243902438,
          8.542168674698793,
          8.547619047619046,
          8.56470588235294,
          8.581395348837207,
          8.528735632183906,
          8.545454545454545,
          8.561797752808989,
          8.577777777777778,
          8.593406593406593,
          8.597826086956522,
          8.602150537634408,
          8.606382978723405,
          8.610526315789473,
          8.624999999999998,
          8.628865979381441,
          8.64285714285714,
          8.646464646464644,
          8.649999999999997,
          8.62376237623762,
          8.607843137254898,
          8.553398058252423,
          8.557692307692303,
          8.504761904761901,
          8.509433962264147,
          8.523364485981304,
          8.518518518518514,
          8.532110091743114,
          8.54545454545454,
          8.558558558558552,
          8.48214285714285,
          8.42477876106194,
          8.429824561403503,
          8.44347826086956,
          8.448275862068959,
          8.461538461538455,
          8.474576271186434,
          8.487394957983186,
          8.41666666666666,
          8.413223140495862,
          8.426229508196716,
          8.439024390243897,
          8.4516129032258,
          8.455999999999994,
          8.468253968253963,
          8.4015748031496,
          8.414062499999995,
          8.418604651162786,
          8.423076923076918,
          8.366412213740453,
          8.363636363636358,
          8.368421052631573,
          8.373134328358203,
          8.38518518518518,
          8.397058823529406,
          8.350364963503644,
          8.355072463768112,
          8.352517985611506,
          8.357142857142852,
          8.36879432624113,
          8.373239436619713,
          8.384615384615378,
          8.395833333333327,
          8.406896551724131,
          8.417808219178076,
          8.408163265306117,
          8.412162162162156,
          8.355704697986571,
          8.36666666666666,
          8.377483443708604,
          8.388157894736835,
          8.39869281045751,
          8.409090909090901,
          8.412903225806444,
          8.423076923076916,
          8.433121019108272,
          8.443037974683536,
          8.446540880503136,
          8.456249999999992,
          8.465838509316761,
          8.4753086419753,
          8.429447852760727,
          8.439024390243894,
          8.442424242424234,
          8.451807228915655,
          8.407185628742507,
          8.410714285714278,
          8.408284023668632,
          8.411764705882344,
          8.415204678362565,
          8.366279069767433,
          8.375722543352593,
          8.38505747126436,
          8.382857142857135,
          8.392045454545446,
          8.395480225988694,
          8.398876404494375,
          8.351955307262564,
          8.30555555555555,
          8.314917127071817,
          8.324175824175818,
          8.333333333333327,
          8.342391304347819,
          8.345945945945939,
          8.34946236559139,
          8.352941176470582,
          8.313829787234036,
          8.322751322751317,
          8.331578947368417,
          8.34031413612565,
          8.338541666666663,
          8.341968911917094,
          8.345360824742265,
          8.35384615384615,
          8.357142857142854,
          8.365482233502535,
          8.37373737373737,
          8.38190954773869,
          8.389999999999997,
          8.398009950248753,
          8.400990099009897,
          8.408866995073888,
          8.416666666666663,
          8.424390243902435,
          8.432038834951452,
          8.439613526570044,
          8.44711538461538,
          8.449760765550234,
          8.457142857142852,
          8.45497630331753,
          8.457547169811315,
          8.46009389671361,
          8.467289719626164,
          8.465116279069763,
          8.472222222222218,
          8.479262672811055,
          8.444954128440362,
          8.44748858447488,
          8.431818181818176,
          8.434389140271488,
          8.436936936936933,
          8.439461883408068,
          8.406249999999996,
          8.37333333333333,
          8.380530973451323,
          8.356828193832595,
          8.355263157894733,
          8.32314410480349,
          8.330434782608691,
          8.333333333333329,
          8.340517241379306,
          8.330472103004288,
          8.333333333333329,
          8.297872340425528,
          8.305084745762707,
          8.312236286919827,
          8.315126050420163,
          8.322175732217568,
          8.329166666666662,
          8.336099585062236,
          8.342975206611566,
          8.345679012345675,
          8.344262295081963,
          8.351020408163262,
          8.357723577235769,
          8.364372469635624,
          8.366935483870964,
          8.37349397590361,
          8.375999999999996,
          8.382470119521908,
          8.388888888888886,
          8.395256916996043,
          8.401574803149602,
          8.403921568627448,
          8.406249999999996,
          8.412451361867701,
          8.418604651162788,
          8.420849420849418,
          8.426923076923073,
          8.432950191570878,
          8.423664122137401,
          8.429657794676803,
          8.431818181818178,
          8.437735849056601,
          8.439849624060146,
          8.441947565543067,
          8.440298507462684,
          8.442379182156131,
          8.444444444444441,
          8.450184501845015,
          8.455882352941174,
          8.424908424908422,
          8.430656934306565,
          8.436363636363634,
          8.405797101449272,
          8.411552346570394,
          8.417266187050357,
          8.397849462365588,
          8.392857142857139,
          8.362989323843413,
          8.368794326241131,
          8.374558303886923,
          8.376760563380278,
          8.350877192982454,
          8.321678321678318,
          8.324041811846687,
          8.326388888888886,
          8.311418685121104,
          8.313793103448273,
          8.319587628865976,
          8.318493150684928,
          8.32423208191126,
          8.295918367346935,
          8.301694915254235,
          8.30743243243243,
          8.31313131313131,
          8.318791946308721,
          8.32441471571906,
          8.329999999999997,
          8.335548172757472,
          8.341059602649004,
          8.346534653465344,
          8.351973684210524,
          8.357377049180325,
          8.356209150326794,
          8.361563517915306,
          8.366883116883113,
          8.368932038834947,
          8.374193548387092,
          8.379421221864947,
          8.38141025641025,
          8.386581469648556,
          8.391719745222924,
          8.374603174603168,
          8.376582278481006,
          8.378548895899048,
          8.383647798742132,
          8.382445141065823,
          8.387499999999992,
          8.364485981308404,
          8.369565217391298,
          8.352941176470582,
          8.354938271604931,
          8.359999999999992,
          8.361963190184042,
          8.366972477064213,
          8.365853658536578,
          8.367781155015189,
          8.372727272727264,
          8.377643504531713,
          8.373493975903607,
          8.37837837837837,
          8.383233532934124,
          8.38805970149253,
          8.392857142857135,
          8.391691394658746,
          8.37278106508875,
          8.377581120943946,
          8.373529411764698,
          8.378299120234596,
          8.383040935672506,
          8.384839650145762,
          8.366279069767431,
          8.368115942028975,
          8.34393063583814,
          8.345821325648405,
          8.32183908045976,
          8.326647564469905,
          8.331428571428562,
          8.336182336182327,
          8.31818181818181,
          8.322946175637385,
          8.3276836158192,
          8.326760563380272,
          8.325842696629204,
          8.327731092436965,
          8.329608938547477,
          8.328690807799434,
          8.327777777777769,
          8.326869806094175,
          8.331491712707175,
          8.336088154269964,
          8.335164835164827,
          8.339726027397251,
          8.3415300546448,
          8.34332425068119,
          8.347826086956513,
          8.352303523035221,
          8.354054054054046,
          8.331536388140155,
          8.333333333333327,
          8.33512064343163,
          8.336898395721919,
          8.317333333333327,
          8.321808510638292,
          8.323607427055697,
          8.325396825396819,
          8.327176781002633,
          8.331578947368415,
          8.335958005249338,
          8.316753926701566,
          8.318537859007828,
          8.322916666666663,
          8.32467532467532,
          8.329015544041447,
          8.330749354005164,
          8.335051546391748,
          8.33161953727506,
          8.335897435897431,
          8.314578005115084,
          8.31632653061224,
          8.320610687022896,
          8.302030456852787,
          8.306329113924045,
          8.308080808080803,
          8.312342569269516,
          8.316582914572859,
          8.318295739348365,
          8.322499999999994,
          8.326683291770568,
          8.330845771144274,
          8.334987593052105,
          8.339108910891085,
          8.343209876543206,
          8.347290640394084,
          8.348894348894344,
          8.350490196078427,
          8.352078239608797,
          8.356097560975606,
          8.340632603406322,
          8.344660194174752,
          8.343825665859558,
          8.326086956521733,
          8.327710843373488,
          8.331730769230763,
          8.333333333333327,
          8.334928229665065,
          8.338902147971353,
          8.338095238095232,
          8.320665083135385,
          8.32227488151658,
          8.304964539007086,
          8.3066037735849,
          8.310588235294112,
          8.314553990610323,
          8.316159250585473,
          8.317757009345787,
          8.319347319347312,
          8.302325581395342,
          8.306264501160086,
          8.310185185185178,
          8.309468822170894,
          8.290322580645155,
          8.291954022988499,
          8.29587155963302,
          8.299771167048048,
          8.301369863013692,
          8.287015945330289,
          8.290909090909084,
          8.292517006802713,
          8.29638009049773,
          8.300225733634303,
          8.304054054054046,
          8.303370786516846,
          8.30717488789237,
          8.306487695749434,
          8.31026785714285,
          8.314031180400885,
          8.317777777777772,
          8.321507760532146,
          8.323008849557517,
          8.326710816777037,
          8.33039647577092,
          8.33406593406593,
          8.33771929824561,
          8.341356673960608,
          8.34497816593886,
          8.32679738562091,
          8.308695652173908,
          8.292841648590016,
          8.296536796536792,
          8.278617710583148,
          8.280172413793098,
          8.28387096774193,
          8.285407725321882,
          8.289079229122049,
          8.273504273504267,
          8.277185501066093,
          8.280851063829783,
          8.276008492568998,
          8.277542372881353,
          8.279069767441857,
          8.280590717299575,
          8.284210526315785,
          8.281512605042012,
          8.283018867924524,
          8.286610878661083,
          8.27557411273486,
          8.27708333333333,
          8.280665280665277,
          8.284232365145224,
          8.287784679089022,
          8.289256198347102,
          8.29072164948453,
          8.294238683127565,
          8.285420944558515,
          8.2889344262295,
          8.292433537832304,
          8.275510204081627,
          8.27902240325865,
          8.274390243902435,
          8.277890466531435,
          8.281376518218618,
          8.28484848484848,
          8.288306451612899,
          8.289738430583496,
          8.291164658634532,
          8.294589178356707,
          8.297999999999995,
          8.301397205588817
         ]
        }
       ],
       "layout": {
        "autosize": true,
        "template": {
         "data": {
          "bar": [
           {
            "error_x": {
             "color": "#2a3f5f"
            },
            "error_y": {
             "color": "#2a3f5f"
            },
            "marker": {
             "line": {
              "color": "#E5ECF6",
              "width": 0.5
             }
            },
            "type": "bar"
           }
          ],
          "barpolar": [
           {
            "marker": {
             "line": {
              "color": "#E5ECF6",
              "width": 0.5
             }
            },
            "type": "barpolar"
           }
          ],
          "carpet": [
           {
            "aaxis": {
             "endlinecolor": "#2a3f5f",
             "gridcolor": "white",
             "linecolor": "white",
             "minorgridcolor": "white",
             "startlinecolor": "#2a3f5f"
            },
            "baxis": {
             "endlinecolor": "#2a3f5f",
             "gridcolor": "white",
             "linecolor": "white",
             "minorgridcolor": "white",
             "startlinecolor": "#2a3f5f"
            },
            "type": "carpet"
           }
          ],
          "choropleth": [
           {
            "colorbar": {
             "outlinewidth": 0,
             "ticks": ""
            },
            "type": "choropleth"
           }
          ],
          "contour": [
           {
            "colorbar": {
             "outlinewidth": 0,
             "ticks": ""
            },
            "colorscale": [
             [
              0,
              "#0d0887"
             ],
             [
              0.1111111111111111,
              "#46039f"
             ],
             [
              0.2222222222222222,
              "#7201a8"
             ],
             [
              0.3333333333333333,
              "#9c179e"
             ],
             [
              0.4444444444444444,
              "#bd3786"
             ],
             [
              0.5555555555555556,
              "#d8576b"
             ],
             [
              0.6666666666666666,
              "#ed7953"
             ],
             [
              0.7777777777777778,
              "#fb9f3a"
             ],
             [
              0.8888888888888888,
              "#fdca26"
             ],
             [
              1,
              "#f0f921"
             ]
            ],
            "type": "contour"
           }
          ],
          "contourcarpet": [
           {
            "colorbar": {
             "outlinewidth": 0,
             "ticks": ""
            },
            "type": "contourcarpet"
           }
          ],
          "heatmap": [
           {
            "colorbar": {
             "outlinewidth": 0,
             "ticks": ""
            },
            "colorscale": [
             [
              0,
              "#0d0887"
             ],
             [
              0.1111111111111111,
              "#46039f"
             ],
             [
              0.2222222222222222,
              "#7201a8"
             ],
             [
              0.3333333333333333,
              "#9c179e"
             ],
             [
              0.4444444444444444,
              "#bd3786"
             ],
             [
              0.5555555555555556,
              "#d8576b"
             ],
             [
              0.6666666666666666,
              "#ed7953"
             ],
             [
              0.7777777777777778,
              "#fb9f3a"
             ],
             [
              0.8888888888888888,
              "#fdca26"
             ],
             [
              1,
              "#f0f921"
             ]
            ],
            "type": "heatmap"
           }
          ],
          "heatmapgl": [
           {
            "colorbar": {
             "outlinewidth": 0,
             "ticks": ""
            },
            "colorscale": [
             [
              0,
              "#0d0887"
             ],
             [
              0.1111111111111111,
              "#46039f"
             ],
             [
              0.2222222222222222,
              "#7201a8"
             ],
             [
              0.3333333333333333,
              "#9c179e"
             ],
             [
              0.4444444444444444,
              "#bd3786"
             ],
             [
              0.5555555555555556,
              "#d8576b"
             ],
             [
              0.6666666666666666,
              "#ed7953"
             ],
             [
              0.7777777777777778,
              "#fb9f3a"
             ],
             [
              0.8888888888888888,
              "#fdca26"
             ],
             [
              1,
              "#f0f921"
             ]
            ],
            "type": "heatmapgl"
           }
          ],
          "histogram": [
           {
            "marker": {
             "colorbar": {
              "outlinewidth": 0,
              "ticks": ""
             }
            },
            "type": "histogram"
           }
          ],
          "histogram2d": [
           {
            "colorbar": {
             "outlinewidth": 0,
             "ticks": ""
            },
            "colorscale": [
             [
              0,
              "#0d0887"
             ],
             [
              0.1111111111111111,
              "#46039f"
             ],
             [
              0.2222222222222222,
              "#7201a8"
             ],
             [
              0.3333333333333333,
              "#9c179e"
             ],
             [
              0.4444444444444444,
              "#bd3786"
             ],
             [
              0.5555555555555556,
              "#d8576b"
             ],
             [
              0.6666666666666666,
              "#ed7953"
             ],
             [
              0.7777777777777778,
              "#fb9f3a"
             ],
             [
              0.8888888888888888,
              "#fdca26"
             ],
             [
              1,
              "#f0f921"
             ]
            ],
            "type": "histogram2d"
           }
          ],
          "histogram2dcontour": [
           {
            "colorbar": {
             "outlinewidth": 0,
             "ticks": ""
            },
            "colorscale": [
             [
              0,
              "#0d0887"
             ],
             [
              0.1111111111111111,
              "#46039f"
             ],
             [
              0.2222222222222222,
              "#7201a8"
             ],
             [
              0.3333333333333333,
              "#9c179e"
             ],
             [
              0.4444444444444444,
              "#bd3786"
             ],
             [
              0.5555555555555556,
              "#d8576b"
             ],
             [
              0.6666666666666666,
              "#ed7953"
             ],
             [
              0.7777777777777778,
              "#fb9f3a"
             ],
             [
              0.8888888888888888,
              "#fdca26"
             ],
             [
              1,
              "#f0f921"
             ]
            ],
            "type": "histogram2dcontour"
           }
          ],
          "mesh3d": [
           {
            "colorbar": {
             "outlinewidth": 0,
             "ticks": ""
            },
            "type": "mesh3d"
           }
          ],
          "parcoords": [
           {
            "line": {
             "colorbar": {
              "outlinewidth": 0,
              "ticks": ""
             }
            },
            "type": "parcoords"
           }
          ],
          "pie": [
           {
            "automargin": true,
            "type": "pie"
           }
          ],
          "scatter": [
           {
            "marker": {
             "colorbar": {
              "outlinewidth": 0,
              "ticks": ""
             }
            },
            "type": "scatter"
           }
          ],
          "scatter3d": [
           {
            "line": {
             "colorbar": {
              "outlinewidth": 0,
              "ticks": ""
             }
            },
            "marker": {
             "colorbar": {
              "outlinewidth": 0,
              "ticks": ""
             }
            },
            "type": "scatter3d"
           }
          ],
          "scattercarpet": [
           {
            "marker": {
             "colorbar": {
              "outlinewidth": 0,
              "ticks": ""
             }
            },
            "type": "scattercarpet"
           }
          ],
          "scattergeo": [
           {
            "marker": {
             "colorbar": {
              "outlinewidth": 0,
              "ticks": ""
             }
            },
            "type": "scattergeo"
           }
          ],
          "scattergl": [
           {
            "marker": {
             "colorbar": {
              "outlinewidth": 0,
              "ticks": ""
             }
            },
            "type": "scattergl"
           }
          ],
          "scattermapbox": [
           {
            "marker": {
             "colorbar": {
              "outlinewidth": 0,
              "ticks": ""
             }
            },
            "type": "scattermapbox"
           }
          ],
          "scatterpolar": [
           {
            "marker": {
             "colorbar": {
              "outlinewidth": 0,
              "ticks": ""
             }
            },
            "type": "scatterpolar"
           }
          ],
          "scatterpolargl": [
           {
            "marker": {
             "colorbar": {
              "outlinewidth": 0,
              "ticks": ""
             }
            },
            "type": "scatterpolargl"
           }
          ],
          "scatterternary": [
           {
            "marker": {
             "colorbar": {
              "outlinewidth": 0,
              "ticks": ""
             }
            },
            "type": "scatterternary"
           }
          ],
          "surface": [
           {
            "colorbar": {
             "outlinewidth": 0,
             "ticks": ""
            },
            "colorscale": [
             [
              0,
              "#0d0887"
             ],
             [
              0.1111111111111111,
              "#46039f"
             ],
             [
              0.2222222222222222,
              "#7201a8"
             ],
             [
              0.3333333333333333,
              "#9c179e"
             ],
             [
              0.4444444444444444,
              "#bd3786"
             ],
             [
              0.5555555555555556,
              "#d8576b"
             ],
             [
              0.6666666666666666,
              "#ed7953"
             ],
             [
              0.7777777777777778,
              "#fb9f3a"
             ],
             [
              0.8888888888888888,
              "#fdca26"
             ],
             [
              1,
              "#f0f921"
             ]
            ],
            "type": "surface"
           }
          ],
          "table": [
           {
            "cells": {
             "fill": {
              "color": "#EBF0F8"
             },
             "line": {
              "color": "white"
             }
            },
            "header": {
             "fill": {
              "color": "#C8D4E3"
             },
             "line": {
              "color": "white"
             }
            },
            "type": "table"
           }
          ]
         },
         "layout": {
          "annotationdefaults": {
           "arrowcolor": "#2a3f5f",
           "arrowhead": 0,
           "arrowwidth": 1
          },
          "coloraxis": {
           "colorbar": {
            "outlinewidth": 0,
            "ticks": ""
           }
          },
          "colorscale": {
           "diverging": [
            [
             0,
             "#8e0152"
            ],
            [
             0.1,
             "#c51b7d"
            ],
            [
             0.2,
             "#de77ae"
            ],
            [
             0.3,
             "#f1b6da"
            ],
            [
             0.4,
             "#fde0ef"
            ],
            [
             0.5,
             "#f7f7f7"
            ],
            [
             0.6,
             "#e6f5d0"
            ],
            [
             0.7,
             "#b8e186"
            ],
            [
             0.8,
             "#7fbc41"
            ],
            [
             0.9,
             "#4d9221"
            ],
            [
             1,
             "#276419"
            ]
           ],
           "sequential": [
            [
             0,
             "#0d0887"
            ],
            [
             0.1111111111111111,
             "#46039f"
            ],
            [
             0.2222222222222222,
             "#7201a8"
            ],
            [
             0.3333333333333333,
             "#9c179e"
            ],
            [
             0.4444444444444444,
             "#bd3786"
            ],
            [
             0.5555555555555556,
             "#d8576b"
            ],
            [
             0.6666666666666666,
             "#ed7953"
            ],
            [
             0.7777777777777778,
             "#fb9f3a"
            ],
            [
             0.8888888888888888,
             "#fdca26"
            ],
            [
             1,
             "#f0f921"
            ]
           ],
           "sequentialminus": [
            [
             0,
             "#0d0887"
            ],
            [
             0.1111111111111111,
             "#46039f"
            ],
            [
             0.2222222222222222,
             "#7201a8"
            ],
            [
             0.3333333333333333,
             "#9c179e"
            ],
            [
             0.4444444444444444,
             "#bd3786"
            ],
            [
             0.5555555555555556,
             "#d8576b"
            ],
            [
             0.6666666666666666,
             "#ed7953"
            ],
            [
             0.7777777777777778,
             "#fb9f3a"
            ],
            [
             0.8888888888888888,
             "#fdca26"
            ],
            [
             1,
             "#f0f921"
            ]
           ]
          },
          "colorway": [
           "#636efa",
           "#EF553B",
           "#00cc96",
           "#ab63fa",
           "#FFA15A",
           "#19d3f3",
           "#FF6692",
           "#B6E880",
           "#FF97FF",
           "#FECB52"
          ],
          "font": {
           "color": "#2a3f5f"
          },
          "geo": {
           "bgcolor": "white",
           "lakecolor": "white",
           "landcolor": "#E5ECF6",
           "showlakes": true,
           "showland": true,
           "subunitcolor": "white"
          },
          "hoverlabel": {
           "align": "left"
          },
          "hovermode": "closest",
          "mapbox": {
           "style": "light"
          },
          "paper_bgcolor": "white",
          "plot_bgcolor": "#E5ECF6",
          "polar": {
           "angularaxis": {
            "gridcolor": "white",
            "linecolor": "white",
            "ticks": ""
           },
           "bgcolor": "#E5ECF6",
           "radialaxis": {
            "gridcolor": "white",
            "linecolor": "white",
            "ticks": ""
           }
          },
          "scene": {
           "xaxis": {
            "backgroundcolor": "#E5ECF6",
            "gridcolor": "white",
            "gridwidth": 2,
            "linecolor": "white",
            "showbackground": true,
            "ticks": "",
            "zerolinecolor": "white"
           },
           "yaxis": {
            "backgroundcolor": "#E5ECF6",
            "gridcolor": "white",
            "gridwidth": 2,
            "linecolor": "white",
            "showbackground": true,
            "ticks": "",
            "zerolinecolor": "white"
           },
           "zaxis": {
            "backgroundcolor": "#E5ECF6",
            "gridcolor": "white",
            "gridwidth": 2,
            "linecolor": "white",
            "showbackground": true,
            "ticks": "",
            "zerolinecolor": "white"
           }
          },
          "shapedefaults": {
           "line": {
            "color": "#2a3f5f"
           }
          },
          "ternary": {
           "aaxis": {
            "gridcolor": "white",
            "linecolor": "white",
            "ticks": ""
           },
           "baxis": {
            "gridcolor": "white",
            "linecolor": "white",
            "ticks": ""
           },
           "bgcolor": "#E5ECF6",
           "caxis": {
            "gridcolor": "white",
            "linecolor": "white",
            "ticks": ""
           }
          },
          "title": {
           "x": 0.05
          },
          "xaxis": {
           "automargin": true,
           "gridcolor": "white",
           "linecolor": "white",
           "ticks": "",
           "title": {
            "standoff": 15
           },
           "zerolinecolor": "white",
           "zerolinewidth": 2
          },
          "yaxis": {
           "automargin": true,
           "gridcolor": "white",
           "linecolor": "white",
           "ticks": "",
           "title": {
            "standoff": 15
           },
           "zerolinecolor": "white",
           "zerolinewidth": 2
          }
         }
        },
        "xaxis": {
         "autorange": true,
         "range": [
          0,
          500
         ],
         "type": "linear"
        },
        "yaxis": {
         "autorange": true,
         "range": [
          -0.48055555555555535,
          9.130555555555553
         ],
         "type": "linear"
        }
       }
      },
      "image/png": "[encoded data removed]",
      "text/html": [
       "<div>\n",
       "        \n",
       "        \n",
       "            <div id=\"a13c4ef3-7d7d-4b7a-bd6d-f3fc1048492e\" class=\"plotly-graph-div\" style=\"height:525px; width:100%;\"></div>\n",
       "            <script type=\"text/javascript\">\n",
       "                require([\"plotly\"], function(Plotly) {\n",
       "                    window.PLOTLYENV=window.PLOTLYENV || {};\n",
       "                    \n",
       "                if (document.getElementById(\"a13c4ef3-7d7d-4b7a-bd6d-f3fc1048492e\")) {\n",
       "                    Plotly.newPlot(\n",
       "                        'a13c4ef3-7d7d-4b7a-bd6d-f3fc1048492e',\n",
       "                        [{\"type\": \"scatter\", \"x\": [0, 1, 2, 3, 4, 5, 6, 7, 8, 9, 10, 11, 12, 13, 14, 15, 16, 17, 18, 19, 20, 21, 22, 23, 24, 25, 26, 27, 28, 29, 30, 31, 32, 33, 34, 35, 36, 37, 38, 39, 40, 41, 42, 43, 44, 45, 46, 47, 48, 49, 50, 51, 52, 53, 54, 55, 56, 57, 58, 59, 60, 61, 62, 63, 64, 65, 66, 67, 68, 69, 70, 71, 72, 73, 74, 75, 76, 77, 78, 79, 80, 81, 82, 83, 84, 85, 86, 87, 88, 89, 90, 91, 92, 93, 94, 95, 96, 97, 98, 99, 100, 101, 102, 103, 104, 105, 106, 107, 108, 109, 110, 111, 112, 113, 114, 115, 116, 117, 118, 119, 120, 121, 122, 123, 124, 125, 126, 127, 128, 129, 130, 131, 132, 133, 134, 135, 136, 137, 138, 139, 140, 141, 142, 143, 144, 145, 146, 147, 148, 149, 150, 151, 152, 153, 154, 155, 156, 157, 158, 159, 160, 161, 162, 163, 164, 165, 166, 167, 168, 169, 170, 171, 172, 173, 174, 175, 176, 177, 178, 179, 180, 181, 182, 183, 184, 185, 186, 187, 188, 189, 190, 191, 192, 193, 194, 195, 196, 197, 198, 199, 200, 201, 202, 203, 204, 205, 206, 207, 208, 209, 210, 211, 212, 213, 214, 215, 216, 217, 218, 219, 220, 221, 222, 223, 224, 225, 226, 227, 228, 229, 230, 231, 232, 233, 234, 235, 236, 237, 238, 239, 240, 241, 242, 243, 244, 245, 246, 247, 248, 249, 250, 251, 252, 253, 254, 255, 256, 257, 258, 259, 260, 261, 262, 263, 264, 265, 266, 267, 268, 269, 270, 271, 272, 273, 274, 275, 276, 277, 278, 279, 280, 281, 282, 283, 284, 285, 286, 287, 288, 289, 290, 291, 292, 293, 294, 295, 296, 297, 298, 299, 300, 301, 302, 303, 304, 305, 306, 307, 308, 309, 310, 311, 312, 313, 314, 315, 316, 317, 318, 319, 320, 321, 322, 323, 324, 325, 326, 327, 328, 329, 330, 331, 332, 333, 334, 335, 336, 337, 338, 339, 340, 341, 342, 343, 344, 345, 346, 347, 348, 349, 350, 351, 352, 353, 354, 355, 356, 357, 358, 359, 360, 361, 362, 363, 364, 365, 366, 367, 368, 369, 370, 371, 372, 373, 374, 375, 376, 377, 378, 379, 380, 381, 382, 383, 384, 385, 386, 387, 388, 389, 390, 391, 392, 393, 394, 395, 396, 397, 398, 399, 400, 401, 402, 403, 404, 405, 406, 407, 408, 409, 410, 411, 412, 413, 414, 415, 416, 417, 418, 419, 420, 421, 422, 423, 424, 425, 426, 427, 428, 429, 430, 431, 432, 433, 434, 435, 436, 437, 438, 439, 440, 441, 442, 443, 444, 445, 446, 447, 448, 449, 450, 451, 452, 453, 454, 455, 456, 457, 458, 459, 460, 461, 462, 463, 464, 465, 466, 467, 468, 469, 470, 471, 472, 473, 474, 475, 476, 477, 478, 479, 480, 481, 482, 483, 484, 485, 486, 487, 488, 489, 490, 491, 492, 493, 494, 495, 496, 497, 498, 499, 500], \"y\": [0, 5.0, 6.333333333333333, 7.25, 7.8, 8.0, 8.285714285714286, 8.375, 8.444444444444445, 8.6, 7.909090909090909, 7.916666666666667, 8.076923076923077, 7.714285714285714, 7.733333333333333, 7.875, 8.0, 8.055555555555555, 8.157894736842104, 8.149999999999999, 7.761904761904761, 7.863636363636362, 7.956521739130434, 7.666666666666665, 7.719999999999999, 7.807692307692307, 7.8888888888888875, 7.7142857142857135, 7.793103448275861, 7.833333333333332, 7.870967741935483, 7.906249999999999, 7.96969696969697, 8.029411764705882, 8.057142857142857, 8.11111111111111, 8.162162162162161, 8.18421052631579, 8.051282051282051, 8.075, 8.097560975609756, 8.142857142857142, 8.162790697674419, 8.204545454545455, 8.222222222222221, 8.239130434782608, 8.27659574468085, 8.291666666666666, 8.326530612244898, 8.36, 8.392156862745098, 8.326923076923077, 8.339622641509434, 8.37037037037037, 8.381818181818181, 8.392857142857142, 8.421052631578947, 8.431034482758621, 8.440677966101696, 8.466666666666667, 8.491803278688524, 8.516129032258064, 8.523809523809524, 8.546875, 8.415384615384616, 8.424242424242424, 8.447761194029852, 8.470588235294118, 8.492753623188406, 8.5, 8.507042253521126, 8.527777777777779, 8.534246575342467, 8.554054054054056, 8.573333333333334, 8.592105263157896, 8.5974025974026, 8.615384615384617, 8.632911392405065, 8.637500000000001, 8.54320987654321, 8.524390243902438, 8.542168674698793, 8.547619047619046, 8.56470588235294, 8.581395348837207, 8.528735632183906, 8.545454545454545, 8.561797752808989, 8.577777777777778, 8.593406593406593, 8.597826086956522, 8.602150537634408, 8.606382978723405, 8.610526315789473, 8.624999999999998, 8.628865979381441, 8.64285714285714, 8.646464646464644, 8.649999999999997, 8.62376237623762, 8.607843137254898, 8.553398058252423, 8.557692307692303, 8.504761904761901, 8.509433962264147, 8.523364485981304, 8.518518518518514, 8.532110091743114, 8.54545454545454, 8.558558558558552, 8.48214285714285, 8.42477876106194, 8.429824561403503, 8.44347826086956, 8.448275862068959, 8.461538461538455, 8.474576271186434, 8.487394957983186, 8.41666666666666, 8.413223140495862, 8.426229508196716, 8.439024390243897, 8.4516129032258, 8.455999999999994, 8.468253968253963, 8.4015748031496, 8.414062499999995, 8.418604651162786, 8.423076923076918, 8.366412213740453, 8.363636363636358, 8.368421052631573, 8.373134328358203, 8.38518518518518, 8.397058823529406, 8.350364963503644, 8.355072463768112, 8.352517985611506, 8.357142857142852, 8.36879432624113, 8.373239436619713, 8.384615384615378, 8.395833333333327, 8.406896551724131, 8.417808219178076, 8.408163265306117, 8.412162162162156, 8.355704697986571, 8.36666666666666, 8.377483443708604, 8.388157894736835, 8.39869281045751, 8.409090909090901, 8.412903225806444, 8.423076923076916, 8.433121019108272, 8.443037974683536, 8.446540880503136, 8.456249999999992, 8.465838509316761, 8.4753086419753, 8.429447852760727, 8.439024390243894, 8.442424242424234, 8.451807228915655, 8.407185628742507, 8.410714285714278, 8.408284023668632, 8.411764705882344, 8.415204678362565, 8.366279069767433, 8.375722543352593, 8.38505747126436, 8.382857142857135, 8.392045454545446, 8.395480225988694, 8.398876404494375, 8.351955307262564, 8.30555555555555, 8.314917127071817, 8.324175824175818, 8.333333333333327, 8.342391304347819, 8.345945945945939, 8.34946236559139, 8.352941176470582, 8.313829787234036, 8.322751322751317, 8.331578947368417, 8.34031413612565, 8.338541666666663, 8.341968911917094, 8.345360824742265, 8.35384615384615, 8.357142857142854, 8.365482233502535, 8.37373737373737, 8.38190954773869, 8.389999999999997, 8.398009950248753, 8.400990099009897, 8.408866995073888, 8.416666666666663, 8.424390243902435, 8.432038834951452, 8.439613526570044, 8.44711538461538, 8.449760765550234, 8.457142857142852, 8.45497630331753, 8.457547169811315, 8.46009389671361, 8.467289719626164, 8.465116279069763, 8.472222222222218, 8.479262672811055, 8.444954128440362, 8.44748858447488, 8.431818181818176, 8.434389140271488, 8.436936936936933, 8.439461883408068, 8.406249999999996, 8.37333333333333, 8.380530973451323, 8.356828193832595, 8.355263157894733, 8.32314410480349, 8.330434782608691, 8.333333333333329, 8.340517241379306, 8.330472103004288, 8.333333333333329, 8.297872340425528, 8.305084745762707, 8.312236286919827, 8.315126050420163, 8.322175732217568, 8.329166666666662, 8.336099585062236, 8.342975206611566, 8.345679012345675, 8.344262295081963, 8.351020408163262, 8.357723577235769, 8.364372469635624, 8.366935483870964, 8.37349397590361, 8.375999999999996, 8.382470119521908, 8.388888888888886, 8.395256916996043, 8.401574803149602, 8.403921568627448, 8.406249999999996, 8.412451361867701, 8.418604651162788, 8.420849420849418, 8.426923076923073, 8.432950191570878, 8.423664122137401, 8.429657794676803, 8.431818181818178, 8.437735849056601, 8.439849624060146, 8.441947565543067, 8.440298507462684, 8.442379182156131, 8.444444444444441, 8.450184501845015, 8.455882352941174, 8.424908424908422, 8.430656934306565, 8.436363636363634, 8.405797101449272, 8.411552346570394, 8.417266187050357, 8.397849462365588, 8.392857142857139, 8.362989323843413, 8.368794326241131, 8.374558303886923, 8.376760563380278, 8.350877192982454, 8.321678321678318, 8.324041811846687, 8.326388888888886, 8.311418685121104, 8.313793103448273, 8.319587628865976, 8.318493150684928, 8.32423208191126, 8.295918367346935, 8.301694915254235, 8.30743243243243, 8.31313131313131, 8.318791946308721, 8.32441471571906, 8.329999999999997, 8.335548172757472, 8.341059602649004, 8.346534653465344, 8.351973684210524, 8.357377049180325, 8.356209150326794, 8.361563517915306, 8.366883116883113, 8.368932038834947, 8.374193548387092, 8.379421221864947, 8.38141025641025, 8.386581469648556, 8.391719745222924, 8.374603174603168, 8.376582278481006, 8.378548895899048, 8.383647798742132, 8.382445141065823, 8.387499999999992, 8.364485981308404, 8.369565217391298, 8.352941176470582, 8.354938271604931, 8.359999999999992, 8.361963190184042, 8.366972477064213, 8.365853658536578, 8.367781155015189, 8.372727272727264, 8.377643504531713, 8.373493975903607, 8.37837837837837, 8.383233532934124, 8.38805970149253, 8.392857142857135, 8.391691394658746, 8.37278106508875, 8.377581120943946, 8.373529411764698, 8.378299120234596, 8.383040935672506, 8.384839650145762, 8.366279069767431, 8.368115942028975, 8.34393063583814, 8.345821325648405, 8.32183908045976, 8.326647564469905, 8.331428571428562, 8.336182336182327, 8.31818181818181, 8.322946175637385, 8.3276836158192, 8.326760563380272, 8.325842696629204, 8.327731092436965, 8.329608938547477, 8.328690807799434, 8.327777777777769, 8.326869806094175, 8.331491712707175, 8.336088154269964, 8.335164835164827, 8.339726027397251, 8.3415300546448, 8.34332425068119, 8.347826086956513, 8.352303523035221, 8.354054054054046, 8.331536388140155, 8.333333333333327, 8.33512064343163, 8.336898395721919, 8.317333333333327, 8.321808510638292, 8.323607427055697, 8.325396825396819, 8.327176781002633, 8.331578947368415, 8.335958005249338, 8.316753926701566, 8.318537859007828, 8.322916666666663, 8.32467532467532, 8.329015544041447, 8.330749354005164, 8.335051546391748, 8.33161953727506, 8.335897435897431, 8.314578005115084, 8.31632653061224, 8.320610687022896, 8.302030456852787, 8.306329113924045, 8.308080808080803, 8.312342569269516, 8.316582914572859, 8.318295739348365, 8.322499999999994, 8.326683291770568, 8.330845771144274, 8.334987593052105, 8.339108910891085, 8.343209876543206, 8.347290640394084, 8.348894348894344, 8.350490196078427, 8.352078239608797, 8.356097560975606, 8.340632603406322, 8.344660194174752, 8.343825665859558, 8.326086956521733, 8.327710843373488, 8.331730769230763, 8.333333333333327, 8.334928229665065, 8.338902147971353, 8.338095238095232, 8.320665083135385, 8.32227488151658, 8.304964539007086, 8.3066037735849, 8.310588235294112, 8.314553990610323, 8.316159250585473, 8.317757009345787, 8.319347319347312, 8.302325581395342, 8.306264501160086, 8.310185185185178, 8.309468822170894, 8.290322580645155, 8.291954022988499, 8.29587155963302, 8.299771167048048, 8.301369863013692, 8.287015945330289, 8.290909090909084, 8.292517006802713, 8.29638009049773, 8.300225733634303, 8.304054054054046, 8.303370786516846, 8.30717488789237, 8.306487695749434, 8.31026785714285, 8.314031180400885, 8.317777777777772, 8.321507760532146, 8.323008849557517, 8.326710816777037, 8.33039647577092, 8.33406593406593, 8.33771929824561, 8.341356673960608, 8.34497816593886, 8.32679738562091, 8.308695652173908, 8.292841648590016, 8.296536796536792, 8.278617710583148, 8.280172413793098, 8.28387096774193, 8.285407725321882, 8.289079229122049, 8.273504273504267, 8.277185501066093, 8.280851063829783, 8.276008492568998, 8.277542372881353, 8.279069767441857, 8.280590717299575, 8.284210526315785, 8.281512605042012, 8.283018867924524, 8.286610878661083, 8.27557411273486, 8.27708333333333, 8.280665280665277, 8.284232365145224, 8.287784679089022, 8.289256198347102, 8.29072164948453, 8.294238683127565, 8.285420944558515, 8.2889344262295, 8.292433537832304, 8.275510204081627, 8.27902240325865, 8.274390243902435, 8.277890466531435, 8.281376518218618, 8.28484848484848, 8.288306451612899, 8.289738430583496, 8.291164658634532, 8.294589178356707, 8.297999999999995, 8.301397205588817]}],\n",
       "                        {\"template\": {\"data\": {\"bar\": [{\"error_x\": {\"color\": \"#2a3f5f\"}, \"error_y\": {\"color\": \"#2a3f5f\"}, \"marker\": {\"line\": {\"color\": \"#E5ECF6\", \"width\": 0.5}}, \"type\": \"bar\"}], \"barpolar\": [{\"marker\": {\"line\": {\"color\": \"#E5ECF6\", \"width\": 0.5}}, \"type\": \"barpolar\"}], \"carpet\": [{\"aaxis\": {\"endlinecolor\": \"#2a3f5f\", \"gridcolor\": \"white\", \"linecolor\": \"white\", \"minorgridcolor\": \"white\", \"startlinecolor\": \"#2a3f5f\"}, \"baxis\": {\"endlinecolor\": \"#2a3f5f\", \"gridcolor\": \"white\", \"linecolor\": \"white\", \"minorgridcolor\": \"white\", \"startlinecolor\": \"#2a3f5f\"}, \"type\": \"carpet\"}], \"choropleth\": [{\"colorbar\": {\"outlinewidth\": 0, \"ticks\": \"\"}, \"type\": \"choropleth\"}], \"contour\": [{\"colorbar\": {\"outlinewidth\": 0, \"ticks\": \"\"}, \"colorscale\": [[0.0, \"#0d0887\"], [0.1111111111111111, \"#46039f\"], [0.2222222222222222, \"#7201a8\"], [0.3333333333333333, \"#9c179e\"], [0.4444444444444444, \"#bd3786\"], [0.5555555555555556, \"#d8576b\"], [0.6666666666666666, \"#ed7953\"], [0.7777777777777778, \"#fb9f3a\"], [0.8888888888888888, \"#fdca26\"], [1.0, \"#f0f921\"]], \"type\": \"contour\"}], \"contourcarpet\": [{\"colorbar\": {\"outlinewidth\": 0, \"ticks\": \"\"}, \"type\": \"contourcarpet\"}], \"heatmap\": [{\"colorbar\": {\"outlinewidth\": 0, \"ticks\": \"\"}, \"colorscale\": [[0.0, \"#0d0887\"], [0.1111111111111111, \"#46039f\"], [0.2222222222222222, \"#7201a8\"], [0.3333333333333333, \"#9c179e\"], [0.4444444444444444, \"#bd3786\"], [0.5555555555555556, \"#d8576b\"], [0.6666666666666666, \"#ed7953\"], [0.7777777777777778, \"#fb9f3a\"], [0.8888888888888888, \"#fdca26\"], [1.0, \"#f0f921\"]], \"type\": \"heatmap\"}], \"heatmapgl\": [{\"colorbar\": {\"outlinewidth\": 0, \"ticks\": \"\"}, \"colorscale\": [[0.0, \"#0d0887\"], [0.1111111111111111, \"#46039f\"], [0.2222222222222222, \"#7201a8\"], [0.3333333333333333, \"#9c179e\"], [0.4444444444444444, \"#bd3786\"], [0.5555555555555556, \"#d8576b\"], [0.6666666666666666, \"#ed7953\"], [0.7777777777777778, \"#fb9f3a\"], [0.8888888888888888, \"#fdca26\"], [1.0, \"#f0f921\"]], \"type\": \"heatmapgl\"}], \"histogram\": [{\"marker\": {\"colorbar\": {\"outlinewidth\": 0, \"ticks\": \"\"}}, \"type\": \"histogram\"}], \"histogram2d\": [{\"colorbar\": {\"outlinewidth\": 0, \"ticks\": \"\"}, \"colorscale\": [[0.0, \"#0d0887\"], [0.1111111111111111, \"#46039f\"], [0.2222222222222222, \"#7201a8\"], [0.3333333333333333, \"#9c179e\"], [0.4444444444444444, \"#bd3786\"], [0.5555555555555556, \"#d8576b\"], [0.6666666666666666, \"#ed7953\"], [0.7777777777777778, \"#fb9f3a\"], [0.8888888888888888, \"#fdca26\"], [1.0, \"#f0f921\"]], \"type\": \"histogram2d\"}], \"histogram2dcontour\": [{\"colorbar\": {\"outlinewidth\": 0, \"ticks\": \"\"}, \"colorscale\": [[0.0, \"#0d0887\"], [0.1111111111111111, \"#46039f\"], [0.2222222222222222, \"#7201a8\"], [0.3333333333333333, \"#9c179e\"], [0.4444444444444444, \"#bd3786\"], [0.5555555555555556, \"#d8576b\"], [0.6666666666666666, \"#ed7953\"], [0.7777777777777778, \"#fb9f3a\"], [0.8888888888888888, \"#fdca26\"], [1.0, \"#f0f921\"]], \"type\": \"histogram2dcontour\"}], \"mesh3d\": [{\"colorbar\": {\"outlinewidth\": 0, \"ticks\": \"\"}, \"type\": \"mesh3d\"}], \"parcoords\": [{\"line\": {\"colorbar\": {\"outlinewidth\": 0, \"ticks\": \"\"}}, \"type\": \"parcoords\"}], \"pie\": [{\"automargin\": true, \"type\": \"pie\"}], \"scatter\": [{\"marker\": {\"colorbar\": {\"outlinewidth\": 0, \"ticks\": \"\"}}, \"type\": \"scatter\"}], \"scatter3d\": [{\"line\": {\"colorbar\": {\"outlinewidth\": 0, \"ticks\": \"\"}}, \"marker\": {\"colorbar\": {\"outlinewidth\": 0, \"ticks\": \"\"}}, \"type\": \"scatter3d\"}], \"scattercarpet\": [{\"marker\": {\"colorbar\": {\"outlinewidth\": 0, \"ticks\": \"\"}}, \"type\": \"scattercarpet\"}], \"scattergeo\": [{\"marker\": {\"colorbar\": {\"outlinewidth\": 0, \"ticks\": \"\"}}, \"type\": \"scattergeo\"}], \"scattergl\": [{\"marker\": {\"colorbar\": {\"outlinewidth\": 0, \"ticks\": \"\"}}, \"type\": \"scattergl\"}], \"scattermapbox\": [{\"marker\": {\"colorbar\": {\"outlinewidth\": 0, \"ticks\": \"\"}}, \"type\": \"scattermapbox\"}], \"scatterpolar\": [{\"marker\": {\"colorbar\": {\"outlinewidth\": 0, \"ticks\": \"\"}}, \"type\": \"scatterpolar\"}], \"scatterpolargl\": [{\"marker\": {\"colorbar\": {\"outlinewidth\": 0, \"ticks\": \"\"}}, \"type\": \"scatterpolargl\"}], \"scatterternary\": [{\"marker\": {\"colorbar\": {\"outlinewidth\": 0, \"ticks\": \"\"}}, \"type\": \"scatterternary\"}], \"surface\": [{\"colorbar\": {\"outlinewidth\": 0, \"ticks\": \"\"}, \"colorscale\": [[0.0, \"#0d0887\"], [0.1111111111111111, \"#46039f\"], [0.2222222222222222, \"#7201a8\"], [0.3333333333333333, \"#9c179e\"], [0.4444444444444444, \"#bd3786\"], [0.5555555555555556, \"#d8576b\"], [0.6666666666666666, \"#ed7953\"], [0.7777777777777778, \"#fb9f3a\"], [0.8888888888888888, \"#fdca26\"], [1.0, \"#f0f921\"]], \"type\": \"surface\"}], \"table\": [{\"cells\": {\"fill\": {\"color\": \"#EBF0F8\"}, \"line\": {\"color\": \"white\"}}, \"header\": {\"fill\": {\"color\": \"#C8D4E3\"}, \"line\": {\"color\": \"white\"}}, \"type\": \"table\"}]}, \"layout\": {\"annotationdefaults\": {\"arrowcolor\": \"#2a3f5f\", \"arrowhead\": 0, \"arrowwidth\": 1}, \"coloraxis\": {\"colorbar\": {\"outlinewidth\": 0, \"ticks\": \"\"}}, \"colorscale\": {\"diverging\": [[0, \"#8e0152\"], [0.1, \"#c51b7d\"], [0.2, \"#de77ae\"], [0.3, \"#f1b6da\"], [0.4, \"#fde0ef\"], [0.5, \"#f7f7f7\"], [0.6, \"#e6f5d0\"], [0.7, \"#b8e186\"], [0.8, \"#7fbc41\"], [0.9, \"#4d9221\"], [1, \"#276419\"]], \"sequential\": [[0.0, \"#0d0887\"], [0.1111111111111111, \"#46039f\"], [0.2222222222222222, \"#7201a8\"], [0.3333333333333333, \"#9c179e\"], [0.4444444444444444, \"#bd3786\"], [0.5555555555555556, \"#d8576b\"], [0.6666666666666666, \"#ed7953\"], [0.7777777777777778, \"#fb9f3a\"], [0.8888888888888888, \"#fdca26\"], [1.0, \"#f0f921\"]], \"sequentialminus\": [[0.0, \"#0d0887\"], [0.1111111111111111, \"#46039f\"], [0.2222222222222222, \"#7201a8\"], [0.3333333333333333, \"#9c179e\"], [0.4444444444444444, \"#bd3786\"], [0.5555555555555556, \"#d8576b\"], [0.6666666666666666, \"#ed7953\"], [0.7777777777777778, \"#fb9f3a\"], [0.8888888888888888, \"#fdca26\"], [1.0, \"#f0f921\"]]}, \"colorway\": [\"#636efa\", \"#EF553B\", \"#00cc96\", \"#ab63fa\", \"#FFA15A\", \"#19d3f3\", \"#FF6692\", \"#B6E880\", \"#FF97FF\", \"#FECB52\"], \"font\": {\"color\": \"#2a3f5f\"}, \"geo\": {\"bgcolor\": \"white\", \"lakecolor\": \"white\", \"landcolor\": \"#E5ECF6\", \"showlakes\": true, \"showland\": true, \"subunitcolor\": \"white\"}, \"hoverlabel\": {\"align\": \"left\"}, \"hovermode\": \"closest\", \"mapbox\": {\"style\": \"light\"}, \"paper_bgcolor\": \"white\", \"plot_bgcolor\": \"#E5ECF6\", \"polar\": {\"angularaxis\": {\"gridcolor\": \"white\", \"linecolor\": \"white\", \"ticks\": \"\"}, \"bgcolor\": \"#E5ECF6\", \"radialaxis\": {\"gridcolor\": \"white\", \"linecolor\": \"white\", \"ticks\": \"\"}}, \"scene\": {\"xaxis\": {\"backgroundcolor\": \"#E5ECF6\", \"gridcolor\": \"white\", \"gridwidth\": 2, \"linecolor\": \"white\", \"showbackground\": true, \"ticks\": \"\", \"zerolinecolor\": \"white\"}, \"yaxis\": {\"backgroundcolor\": \"#E5ECF6\", \"gridcolor\": \"white\", \"gridwidth\": 2, \"linecolor\": \"white\", \"showbackground\": true, \"ticks\": \"\", \"zerolinecolor\": \"white\"}, \"zaxis\": {\"backgroundcolor\": \"#E5ECF6\", \"gridcolor\": \"white\", \"gridwidth\": 2, \"linecolor\": \"white\", \"showbackground\": true, \"ticks\": \"\", \"zerolinecolor\": \"white\"}}, \"shapedefaults\": {\"line\": {\"color\": \"#2a3f5f\"}}, \"ternary\": {\"aaxis\": {\"gridcolor\": \"white\", \"linecolor\": \"white\", \"ticks\": \"\"}, \"baxis\": {\"gridcolor\": \"white\", \"linecolor\": \"white\", \"ticks\": \"\"}, \"bgcolor\": \"#E5ECF6\", \"caxis\": {\"gridcolor\": \"white\", \"linecolor\": \"white\", \"ticks\": \"\"}}, \"title\": {\"x\": 0.05}, \"xaxis\": {\"automargin\": true, \"gridcolor\": \"white\", \"linecolor\": \"white\", \"ticks\": \"\", \"title\": {\"standoff\": 15}, \"zerolinecolor\": \"white\", \"zerolinewidth\": 2}, \"yaxis\": {\"automargin\": true, \"gridcolor\": \"white\", \"linecolor\": \"white\", \"ticks\": \"\", \"title\": {\"standoff\": 15}, \"zerolinecolor\": \"white\", \"zerolinewidth\": 2}}}},\n",
       "                        {\"responsive\": true}\n",
       "                    ).then(function(){\n",
       "                            \n",
       "var gd = document.getElementById('a13c4ef3-7d7d-4b7a-bd6d-f3fc1048492e');\n",
       "var x = new MutationObserver(function (mutations, observer) {{\n",
       "        var display = window.getComputedStyle(gd).display;\n",
       "        if (!display || display === 'none') {{\n",
       "            console.log([gd, 'removed!']);\n",
       "            Plotly.purge(gd);\n",
       "            observer.disconnect();\n",
       "        }}\n",
       "}});\n",
       "\n",
       "// Listen for the removal of the full notebook cells\n",
       "var notebookContainer = gd.closest('#notebook-container');\n",
       "if (notebookContainer) {{\n",
       "    x.observe(notebookContainer, {childList: true});\n",
       "}}\n",
       "\n",
       "// Listen for the clearing of the current output cell\n",
       "var outputEl = gd.closest('.output');\n",
       "if (outputEl) {{\n",
       "    x.observe(outputEl, {childList: true});\n",
       "}}\n",
       "\n",
       "                        })\n",
       "                };\n",
       "                });\n",
       "            </script>\n",
       "        </div>"
      ]
     },
     "metadata": {},
     "output_type": "display_data"
    }
   ],
   "source": [
    "import plotly.graph_objects as go\n",
    "\n",
    "fig = go.Figure()\n",
    "\n",
    "fig.add_trace(go.Scatter(\n",
    "    x=np.arange(len(rewards)),\n",
    "    y=rewards\n",
    "))\n",
    "fig.show()"
   ]
  },
  {
   "cell_type": "code",
   "execution_count": 1,
   "metadata": {},
   "outputs": [],
   "source": [
    "import numpy"
   ]
  },
  {
   "cell_type": "code",
   "execution_count": 2,
   "metadata": {},
   "outputs": [
    {
     "data": {
      "text/plain": [
       "array([[1, 2, 3],\n",
       "       [4, 5, 6]])"
      ]
     },
     "execution_count": 2,
     "metadata": {},
     "output_type": "execute_result"
    }
   ],
   "source": [
    "numpy.array([[1, 2, 3], [4, 5, 6]])"
   ]
  },
  {
   "cell_type": "code",
   "execution_count": 3,
   "metadata": {},
   "outputs": [],
   "source": [
    "import torch"
   ]
  },
  {
   "cell_type": "code",
   "execution_count": 4,
   "metadata": {},
   "outputs": [
    {
     "data": {
      "text/plain": [
       "tensor([[1., 2., 3.],\n",
       "        [4., 5., 6.]])"
      ]
     },
     "execution_count": 4,
     "metadata": {},
     "output_type": "execute_result"
    }
   ],
   "source": [
    "torch.Tensor([[1, 2, 3], [4, 5, 6]])"
   ]
  },
  {
   "cell_type": "code",
   "execution_count": 6,
   "metadata": {},
   "outputs": [
    {
     "data": {
      "text/plain": [
       "'1.1.0'"
      ]
     },
     "execution_count": 6,
     "metadata": {},
     "output_type": "execute_result"
    }
   ],
   "source": [
    "torch.__version__"
   ]
  },
  {
   "cell_type": "code",
   "execution_count": 7,
   "metadata": {},
   "outputs": [
    {
     "data": {
      "text/plain": [
       "'1.18.1'"
      ]
     },
     "execution_count": 7,
     "metadata": {},
     "output_type": "execute_result"
    }
   ],
   "source": [
    "numpy.__version__"
   ]
  },
  {
   "cell_type": "code",
   "execution_count": 70,
   "metadata": {},
   "outputs": [
    {
     "data": {
      "text/plain": [
       "tensor([3.3078, 6.6156])"
      ]
     },
     "execution_count": 70,
     "metadata": {},
     "output_type": "execute_result"
    }
   ],
   "source": [
    "x = torch.Tensor([2,4])\n",
    "m = torch.randn(2, requires_grad=True)\n",
    "b = torch.randn(1, requires_grad=True)\n",
    "y = m*x+b\n",
    "y_known = torch.Tensor([2,4])\n",
    "loss = (torch.sum(y_known - y))**2\n",
    "loss.backward()\n",
    "m.grad"
   ]
  },
  {
   "cell_type": "code",
   "execution_count": 71,
   "metadata": {},
   "outputs": [
    {
     "data": {
      "text/plain": [
       "tensor(0.6838, grad_fn=<PowBackward0>)"
      ]
     },
     "execution_count": 71,
     "metadata": {},
     "output_type": "execute_result"
    }
   ],
   "source": [
    "loss"
   ]
  },
  {
   "cell_type": "code",
   "execution_count": 72,
   "metadata": {},
   "outputs": [
    {
     "data": {
      "text/plain": [
       "tensor([3.3078, 6.6156])"
      ]
     },
     "execution_count": 72,
     "metadata": {},
     "output_type": "execute_result"
    }
   ],
   "source": [
    "y = m.grad*x+b\n",
    "y_known = torch.Tensor([2,4])\n",
    "loss = (torch.sum(y_known - y))**2\n",
    "loss.backward()\n",
    "m.grad"
   ]
  },
  {
   "cell_type": "code",
   "execution_count": 73,
   "metadata": {},
   "outputs": [
    {
     "data": {
      "text/plain": [
       "tensor(848.6937, grad_fn=<PowBackward0>)"
      ]
     },
     "execution_count": 73,
     "metadata": {},
     "output_type": "execute_result"
    }
   ],
   "source": [
    "loss"
   ]
  },
  {
   "cell_type": "code",
   "execution_count": 92,
   "metadata": {},
   "outputs": [],
   "source": [
    "import numpy as np\n",
    "import random\n",
    "\n",
    "class ContextBandit:\n",
    "    \n",
    "    def __init__(self, arms=10):\n",
    "        self.arms = arms\n",
    "        self.init_distribution(arms)\n",
    "        self.update_state()\n",
    "        \n",
    "    def init_distribution(self, arms):\n",
    "        self.bandit_matrix = np.random.rand(arms,arms)\n",
    "        \n",
    "    def reward(self, prob):\n",
    "        reward = 0\n",
    "        for i in range(self.arms):\n",
    "            if random.random() < prob:\n",
    "                reward += 1\n",
    "        return reward\n",
    "    \n",
    "    def get_state(self):\n",
    "        return self.state\n",
    "    \n",
    "    def update_state(self):\n",
    "        self.state = np.random.randint(0,self.arms)\n",
    "        \n",
    "    def get_reward(self,arm):\n",
    "        return self.reward(self.bandit_matrix[self.get_state()][arm])\n",
    "    \n",
    "    def choose_arm(self, arm):\n",
    "        reward = self.get_reward(arm)\n",
    "        self.update_state()\n",
    "        return reward"
   ]
  },
  {
   "cell_type": "code",
   "execution_count": 134,
   "metadata": {},
   "outputs": [],
   "source": [
    "env = ContextBandit(arms=5)"
   ]
  },
  {
   "cell_type": "code",
   "execution_count": 135,
   "metadata": {},
   "outputs": [
    {
     "name": "stdout",
     "output_type": "stream",
     "text": [
      "5 2\n"
     ]
    }
   ],
   "source": [
    "state = env.get_state()\n",
    "reward = env.choose_arm(1)\n",
    "print(f'{reward} {state}')"
   ]
  },
  {
   "cell_type": "code",
   "execution_count": 137,
   "metadata": {},
   "outputs": [
    {
     "data": {
      "text/plain": [
       "array([[0.28357076, 0.82431283, 0.72947034, 0.01558191, 0.22266357],\n",
       "       [0.557277  , 0.15938479, 0.49471745, 0.67271865, 0.96550414],\n",
       "       [0.92352768, 0.79300069, 0.90355788, 0.20555401, 0.40767678],\n",
       "       [0.06268852, 0.75137187, 0.0705545 , 0.62138078, 0.05549613],\n",
       "       [0.89389129, 0.87181412, 0.88908124, 0.92706657, 0.09618149]])"
      ]
     },
     "execution_count": 137,
     "metadata": {},
     "output_type": "execute_result"
    }
   ],
   "source": [
    "env.bandit_matrix"
   ]
  },
  {
   "cell_type": "code",
   "execution_count": 182,
   "metadata": {},
   "outputs": [],
   "source": [
    "import numpy as np\n",
    "import torch\n",
    "arms = 10\n",
    "N, D_in, H, D_out = 1, arms, 100, arms\n",
    "model = torch.nn.Sequential(\n",
    "    torch.nn.Linear(D_in, H),\n",
    "    torch.nn.ReLU(),\n",
    "    torch.nn.Linear(H, D_out),\n",
    "    torch.nn.ReLU(),\n",
    ")\n",
    "loss_fn = torch.nn.MSELoss()\n",
    "\n",
    "def one_hot(N, pos, val=1):\n",
    "    one_hot_vec = np.zeros(N)\n",
    "    one_hot_vec[pos] = val\n",
    "    return one_hot_vec\n",
    "\n",
    "def softmax(av, tau=1.12):\n",
    "    softm = np.exp(av / tau) / np.sum( np.exp(av / tau) )\n",
    "    return softm\n",
    "\n",
    "def train(env, epochs=5000, learning_rate=1e-2):\n",
    "    cur_state = torch.Tensor(one_hot(arms,env.get_state()))\n",
    "    optimizer = torch.optim.Adam(model.parameters(), lr=learning_rate)\n",
    "    rewards = []\n",
    "    for i in range(epochs):\n",
    "        y_pred = model(cur_state)\n",
    "        av_softmax = softmax(y_pred.data.numpy(), tau=2.0)\n",
    "        av_softmax /= av_softmax.sum()\n",
    "        choice = np.random.choice(arms, p=av_softmax)\n",
    "        cur_reward = env.choose_arm(choice)\n",
    "        one_hot_reward = y_pred.data.numpy().copy()\n",
    "        one_hot_reward[choice] = cur_reward\n",
    "        reward = torch.Tensor(one_hot_reward)\n",
    "        rewards.append(cur_reward)\n",
    "        loss = loss_fn(y_pred, reward)\n",
    "        optimizer.zero_grad()\n",
    "        loss.backward()\n",
    "        optimizer.step()\n",
    "        cur_state = torch.Tensor(one_hot(arms,env.get_state()))\n",
    "    return np.array(rewards)"
   ]
  },
  {
   "cell_type": "code",
   "execution_count": 183,
   "metadata": {},
   "outputs": [],
   "source": [
    "env = ContextBandit(arms)\n",
    "rewards = train(env)"
   ]
  },
  {
   "cell_type": "code",
   "execution_count": 187,
   "metadata": {},
   "outputs": [
    {
     "data": {
      "image/png": "[encoded data removed]",
      "text/plain": [
       "<Figure size 432x288 with 1 Axes>"
      ]
     },
     "metadata": {
      "needs_background": "light"
     },
     "output_type": "display_data"
    }
   ],
   "source": [
    "import matplotlib.pyplot as plt\n",
    "\n",
    "fig, ax = plt.subplots()\n",
    "ax.set_xlabel('Plays', fontsize=15)\n",
    "ax.set_ylabel('Rewards', fontsize=15)\n",
    "\n",
    "ax.scatter(np.arange(len(rewards)), rewards)\n",
    "\n",
    "ax.grid(True)\n",
    "fig.tight_layout()\n"
   ]
  },
  {
   "cell_type": "code",
   "execution_count": 7,
   "metadata": {},
   "outputs": [
    {
     "ename": "SyntaxError",
     "evalue": "invalid character in identifier (<ipython-input-7-815627648905>, line 6)",
     "output_type": "error",
     "traceback": [
      "\u001b[1;36m  File \u001b[1;32m\"<ipython-input-7-815627648905>\"\u001b[1;36m, line \u001b[1;32m6\u001b[0m\n\u001b[1;33m    term2 = term2 – old_q_value\u001b[0m\n\u001b[1;37m                  ^\u001b[0m\n\u001b[1;31mSyntaxError\u001b[0m\u001b[1;31m:\u001b[0m invalid character in identifier\n"
     ]
    }
   ],
   "source": [
    "def Q(state, action):\n",
    "    return 0\n",
    "\n",
    "def get_updated_q_value(old_q_value, reward, state, step_size, discount):\n",
    "    term2 = reward + discount * max([Q(state, action) for action in actions])\n",
    "    term2 = term2 – old_q_value\n",
    "    term2 = step_size * term2\n",
    "    return (old_q_value + term2)"
   ]
  },
  {
   "cell_type": "code",
   "execution_count": null,
   "metadata": {},
   "outputs": [],
   "source": []
  }
 ],
 "metadata": {
  "kernelspec": {
   "display_name": "Python 3",
   "language": "python",
   "name": "python3"
  },
  "language_info": {
   "codemirror_mode": {
    "name": "ipython",
    "version": 3
   },
   "file_extension": ".py",
   "mimetype": "text/x-python",
   "name": "python",
   "nbconvert_exporter": "python",
   "pygments_lexer": "ipython3",
   "version": "3.7.4"
  }
 },
 "nbformat": 4,
 "nbformat_minor": 4
}
