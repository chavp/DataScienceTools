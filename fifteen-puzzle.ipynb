{
 "cells": [
  {
   "cell_type": "code",
   "execution_count": 163,
   "metadata": {},
   "outputs": [
    {
     "data": {
      "text/plain": [
       "[[1, (0, 0)],\n",
       " [2, (0, 1)],\n",
       " [3, (0, 2)],\n",
       " [4, (1, 0)],\n",
       " [5, (1, 1)],\n",
       " [6, (1, 2)],\n",
       " [7, (2, 0)],\n",
       " [8, (2, 1)],\n",
       " [0, (2, 2)]]"
      ]
     },
     "execution_count": 163,
     "metadata": {},
     "output_type": "execute_result"
    }
   ],
   "source": [
    "import numpy as np\n",
    "import pandas as pd\n",
    "\n",
    "# Fifteen Puzzle\n",
    "BOARD_SIZE = 3\n",
    "SQUARE = BOARD_SIZE * BOARD_SIZE\n",
    "T = [ [0, (x, y)] for x in np.arange(BOARD_SIZE) for y in np.arange(BOARD_SIZE)]\n",
    "G = [ [0, (x, y)] for x in np.arange(BOARD_SIZE) for y in np.arange(BOARD_SIZE)]\n",
    "index = 0\n",
    "L = np.arange(1, SQUARE, 1)\n",
    "for n in L:\n",
    "    T[index][0] = n\n",
    "    G[index][0] = SQUARE - n\n",
    "    index = index + 1\n",
    "\n",
    "acts = ['u', 'r', 'd', 'l']\n",
    "\n",
    "T"
   ]
  },
  {
   "cell_type": "code",
   "execution_count": 151,
   "metadata": {},
   "outputs": [],
   "source": [
    "def move(t, act):\n",
    "    p = t[1]\n",
    "    _p = (0, 0)\n",
    "    if act == 'u':\n",
    "        _p = (-1, 0)\n",
    "    elif act == 'r':\n",
    "        _p = (0, 1)\n",
    "    elif act == 'd':\n",
    "        _p = (1, 0)\n",
    "    elif act == 'l':\n",
    "        _p = (0, -1)\n",
    "    else:\n",
    "        return\n",
    "    _p = (p[0] + _p[0], p[1] + _p[1])\n",
    "    _t = findByPoint(_p)\n",
    "    if _t is None or _t[1][0] < 0 or _t[1][1] > BOARD_SIZE - 1 or _t[0] != 0:\n",
    "        return\n",
    "    return _t\n",
    "\n",
    "def findByPoint(p):\n",
    "    for t in T:\n",
    "        _p = t[1]\n",
    "        if _p[0] == p[0] and _p[1] == p[1]:\n",
    "            return t\n",
    "\n",
    "def swap(t1, t2):\n",
    "    temp = t2[0]\n",
    "    t2[0] = t1[0]\n",
    "    t1[0] = temp\n",
    "    \n",
    "def step(t, act):\n",
    "    l = t[0]\n",
    "    d = t[1]\n",
    "    _t = move(t, act)\n",
    "    if _t != None:\n",
    "        swap(t, _t)\n",
    "    return _t\n",
    "\n",
    "def findByLabe(l):\n",
    "    for t in T:\n",
    "        _l = t[0]\n",
    "        if _l == l:\n",
    "            return t\n",
    "\n",
    "def findCanMove():\n",
    "    t = findByLabe(0)\n",
    "    p = t[1]\n",
    "    p1 = (p[0]-1, p[1])\n",
    "    p2 = (p[0], p[1]+1)\n",
    "    p3 = (p[0]+1, p[1])\n",
    "    p4 = (p[0], p[1]-1)\n",
    "    return [x for x in [findByPoint(p1), findByPoint(p2), findByPoint(p3), findByPoint(p4)] if x != None]\n",
    "\n",
    "def findCanAct(t):\n",
    "    for act in acts:\n",
    "        _t = move(t, act)\n",
    "        if _t != None:\n",
    "            return [t, act]\n",
    "\n",
    "def score():\n",
    "    s = 0\n",
    "    for x in T:\n",
    "        for y in G:\n",
    "            v1, v2 = x[0], y[0]\n",
    "            p1, p2 = x[1], y[1]\n",
    "            if p1[0] == p2[0] and p1[1] == p2[1] and v1 == v2:\n",
    "                s = s + 1\n",
    "    return s\n",
    "\n",
    "def key(nums):\n",
    "    st = \"|\"\n",
    "    for _ in nums:\n",
    "        st = st + F\"{_}|\"\n",
    "    return st\n",
    "\n",
    "def state():\n",
    "    nums = [t[0] for t in T]\n",
    "    return key(nums)\n",
    "        "
   ]
  },
  {
   "cell_type": "code",
   "execution_count": 152,
   "metadata": {},
   "outputs": [
    {
     "name": "stdout",
     "output_type": "stream",
     "text": [
      "None\n"
     ]
    }
   ],
   "source": [
    "t = findByLabe(5)\n",
    "obs = step(t, 'd')\n",
    "print(obs)"
   ]
  },
  {
   "cell_type": "code",
   "execution_count": 121,
   "metadata": {},
   "outputs": [
    {
     "data": {
      "text/plain": [
       "[0, (3, 3)]"
      ]
     },
     "execution_count": 121,
     "metadata": {},
     "output_type": "execute_result"
    }
   ],
   "source": [
    "findByLabe(0)"
   ]
  },
  {
   "cell_type": "code",
   "execution_count": 127,
   "metadata": {},
   "outputs": [
    {
     "data": {
      "text/plain": [
       "[[12, (2, 3)], [15, (3, 2)]]"
      ]
     },
     "execution_count": 127,
     "metadata": {},
     "output_type": "execute_result"
    }
   ],
   "source": [
    "findCanMove()"
   ]
  },
  {
   "cell_type": "code",
   "execution_count": 154,
   "metadata": {},
   "outputs": [
    {
     "data": {
      "text/plain": [
       "[0, (3, 3)]"
      ]
     },
     "execution_count": 154,
     "metadata": {},
     "output_type": "execute_result"
    }
   ],
   "source": [
    "CM = findCanMove()\n",
    "CM[0]\n",
    "move(CM[0], 'd')"
   ]
  },
  {
   "cell_type": "code",
   "execution_count": 130,
   "metadata": {},
   "outputs": [
    {
     "data": {
      "text/plain": [
       "[None, None]"
      ]
     },
     "execution_count": 130,
     "metadata": {},
     "output_type": "execute_result"
    }
   ],
   "source": [
    "can_acts = [findCanAct(x) for x in CM]\n",
    "can_acts"
   ]
  },
  {
   "cell_type": "code",
   "execution_count": 38,
   "metadata": {},
   "outputs": [
    {
     "data": {
      "text/plain": [
       "[[1, (0, 0)],\n",
       " [2, (0, 1)],\n",
       " [3, (0, 2)],\n",
       " [4, (1, 0)],\n",
       " [5, (1, 1)],\n",
       " [6, (1, 2)],\n",
       " [7, (2, 0)],\n",
       " [8, (2, 1)],\n",
       " [0, (2, 2)]]"
      ]
     },
     "execution_count": 38,
     "metadata": {},
     "output_type": "execute_result"
    }
   ],
   "source": [
    "T"
   ]
  },
  {
   "cell_type": "code",
   "execution_count": 292,
   "metadata": {},
   "outputs": [
    {
     "data": {
      "text/plain": [
       "[[6, (1, 2)], 'd']"
      ]
     },
     "execution_count": 292,
     "metadata": {},
     "output_type": "execute_result"
    }
   ],
   "source": [
    "can_acts[np.random.randint(0, len(can_acts))]"
   ]
  },
  {
   "cell_type": "code",
   "execution_count": 164,
   "metadata": {},
   "outputs": [
    {
     "name": "stdout",
     "output_type": "stream",
     "text": [
      "609560\n",
      "[[8, (0, 0)], [7, (0, 1)], [6, (0, 2)], [5, (1, 0)], [4, (1, 1)], [3, (1, 2)], [2, (2, 0)], [1, (2, 1)], [0, (2, 2)]]\n"
     ]
    }
   ],
   "source": [
    "def getStateKey(state, act, _state):\n",
    "    return F'{state} - > {act} - > {state}'\n",
    "\n",
    "data = {}\n",
    "s = score()\n",
    "currentState = state()\n",
    "cost = 1\n",
    "can_acts = [findCanAct(x) for x in findCanMove()]\n",
    "act = can_acts[np.random.randint(0, len(can_acts))]\n",
    "GOAL_STATE = key(np.arange(SQUARE-1, -1, -1))\n",
    "for _ in range(900000):\n",
    "    previousState = state()\n",
    "    if currentState == GOAL_STATE:\n",
    "        print(_)\n",
    "        print(T)\n",
    "        break\n",
    "    step(act[0], act[1])\n",
    "    currentState = state()\n",
    "    s = score()\n",
    "    #obsKey = getStateKey(previousState, act, currentState)\n",
    "    #if obsKey in data:\n",
    "    #    data[obsKey] = (act, data[obsKey][1] + s - cost)\n",
    "    #else:\n",
    "    #    data[obsKey] = (act, s)\n",
    "    \n",
    "    can_acts = [findCanAct(x) for x in findCanMove()]\n",
    "    act = can_acts[np.random.randint(0, len(can_acts))]\n",
    "    #obsKey = getStateKey(previousState, act, currentState)\n",
    "    #if obsKey in data:\n",
    "    #    _s = data[obsKey][1]\n",
    "    #    if _s > s:\n",
    "    #        act = data[obsKey][0]"
   ]
  },
  {
   "cell_type": "code",
   "execution_count": 128,
   "metadata": {},
   "outputs": [
    {
     "data": {
      "text/plain": [
       "[[12, (2, 3)], [15, (3, 2)]]"
      ]
     },
     "execution_count": 128,
     "metadata": {},
     "output_type": "execute_result"
    }
   ],
   "source": [
    "findCanMove()"
   ]
  },
  {
   "cell_type": "code",
   "execution_count": 385,
   "metadata": {},
   "outputs": [],
   "source": [
    "import pandas as pd"
   ]
  },
  {
   "cell_type": "code",
   "execution_count": 387,
   "metadata": {},
   "outputs": [],
   "source": [
    "stateDf = pd.CategoricalIndex(['a', 'b', 'c', 'a', 'b', 'c'])"
   ]
  },
  {
   "cell_type": "code",
   "execution_count": 3,
   "metadata": {},
   "outputs": [],
   "source": [
    "from itertools import permutations\n",
    "\n",
    "def allStates(size):\n",
    "    results = []\n",
    "    perm = permutations(np.arange(0, size, 1)) \n",
    "    permList = list(perm)\n",
    "    for x in permList:\n",
    "        results.append(key(x))\n",
    "    return results"
   ]
  },
  {
   "cell_type": "code",
   "execution_count": 39,
   "metadata": {},
   "outputs": [],
   "source": [
    "results = allStates(4)"
   ]
  },
  {
   "cell_type": "code",
   "execution_count": 40,
   "metadata": {},
   "outputs": [],
   "source": [
    "data = { _: [(None, None) for i in range(len(results))] for _ in results }\n",
    "df = pd.DataFrame(data, index=data)"
   ]
  },
  {
   "cell_type": "code",
   "execution_count": 49,
   "metadata": {},
   "outputs": [],
   "source": [
    "data = {}\n",
    "if 'a' in data:\n",
    "    print('Ok')"
   ]
  },
  {
   "cell_type": "code",
   "execution_count": 61,
   "metadata": {},
   "outputs": [
    {
     "data": {
      "text/plain": [
       "['a', 'a', 'a']"
      ]
     },
     "execution_count": 61,
     "metadata": {},
     "output_type": "execute_result"
    }
   ],
   "source": [
    "'a,a,a'.split(',')"
   ]
  },
  {
   "cell_type": "code",
   "execution_count": 68,
   "metadata": {},
   "outputs": [
    {
     "ename": "NameError",
     "evalue": "name 'a' is not defined",
     "output_type": "error",
     "traceback": [
      "\u001b[1;31m---------------------------------------------------------------------------\u001b[0m",
      "\u001b[1;31mNameError\u001b[0m                                 Traceback (most recent call last)",
      "\u001b[1;32m<ipython-input-68-cf113d7348fa>\u001b[0m in \u001b[0;36m<module>\u001b[1;34m\u001b[0m\n\u001b[1;32m----> 1\u001b[1;33m \u001b[0meval\u001b[0m\u001b[1;33m(\u001b[0m\u001b[1;34m'a,aa,a,a'\u001b[0m\u001b[1;33m)\u001b[0m\u001b[1;33m\u001b[0m\u001b[1;33m\u001b[0m\u001b[0m\n\u001b[0m",
      "\u001b[1;32m<string>\u001b[0m in \u001b[0;36m<module>\u001b[1;34m\u001b[0m\n",
      "\u001b[1;31mNameError\u001b[0m: name 'a' is not defined"
     ]
    }
   ],
   "source": [
    "eval('a,aa,a,a')"
   ]
  },
  {
   "cell_type": "code",
   "execution_count": 157,
   "metadata": {},
   "outputs": [
    {
     "data": {
      "text/plain": [
       "'|15|14|13|12|11|10|9|8|7|6|5|4|3|2|1|0|'"
      ]
     },
     "execution_count": 157,
     "metadata": {},
     "output_type": "execute_result"
    }
   ],
   "source": [
    "key(np.arange(SQUARE-1, -1, -1))"
   ]
  },
  {
   "cell_type": "code",
   "execution_count": null,
   "metadata": {},
   "outputs": [],
   "source": []
  }
 ],
 "metadata": {
  "kernelspec": {
   "display_name": "Python 3",
   "language": "python",
   "name": "python3"
  },
  "language_info": {
   "codemirror_mode": {
    "name": "ipython",
    "version": 3
   },
   "file_extension": ".py",
   "mimetype": "text/x-python",
   "name": "python",
   "nbconvert_exporter": "python",
   "pygments_lexer": "ipython3",
   "version": "3.7.4"
  }
 },
 "nbformat": 4,
 "nbformat_minor": 4
}
